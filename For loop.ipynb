{
 "cells": [
  {
   "cell_type": "code",
   "execution_count": 1,
   "id": "843062c7",
   "metadata": {},
   "outputs": [],
   "source": [
    "l= [1,2,3,4,\"sudh\", \"kumar\" , 45.56]"
   ]
  },
  {
   "cell_type": "code",
   "execution_count": 2,
   "id": "bc2a65b0",
   "metadata": {},
   "outputs": [
    {
     "name": "stdout",
     "output_type": "stream",
     "text": [
      "1\n",
      "2\n",
      "3\n",
      "4\n",
      "sudh\n",
      "kumar\n",
      "45.56\n"
     ]
    }
   ],
   "source": [
    "for i in l:\n",
    "    print(i)"
   ]
  },
  {
   "cell_type": "code",
   "execution_count": 3,
   "id": "84be4a20",
   "metadata": {},
   "outputs": [
    {
     "ename": "IndentationError",
     "evalue": "expected an indented block (967064326.py, line 3)",
     "output_type": "error",
     "traceback": [
      "\u001b[0;36m  File \u001b[0;32m\"/var/folders/gy/zdp2mszs7f10ps3hr6svw1k40000gn/T/ipykernel_17964/967064326.py\"\u001b[0;36m, line \u001b[0;32m3\u001b[0m\n\u001b[0;31m    # body of the loop is missing\u001b[0m\n\u001b[0m                                 ^\u001b[0m\n\u001b[0;31mIndentationError\u001b[0m\u001b[0;31m:\u001b[0m expected an indented block\n"
     ]
    }
   ],
   "source": [
    "for i in l:\n",
    "    \n",
    "# body of the loop is missing"
   ]
  },
  {
   "cell_type": "code",
   "execution_count": 4,
   "id": "eced7aaa",
   "metadata": {},
   "outputs": [],
   "source": [
    "for i in l:\n",
    "    pass\n",
    "# as we are not expecting any result so pass can be written."
   ]
  },
  {
   "cell_type": "code",
   "execution_count": 5,
   "id": "7f0303d9",
   "metadata": {},
   "outputs": [
    {
     "name": "stdout",
     "output_type": "stream",
     "text": [
      "s\n",
      "u\n",
      "d\n",
      "h\n"
     ]
    }
   ],
   "source": [
    "s = \"sudh\"\n",
    "for i in s:\n",
    "    print(i)"
   ]
  },
  {
   "cell_type": "code",
   "execution_count": 6,
   "id": "377738b1",
   "metadata": {},
   "outputs": [
    {
     "name": "stdout",
     "output_type": "stream",
     "text": [
      "1\n",
      "2\n",
      "3\n",
      "4\n",
      "sudh\n",
      "kumar\n",
      "45.56\n",
      "if for loop is going to complete itself then it will execute.\n"
     ]
    }
   ],
   "source": [
    "for i in l:\n",
    "    print (i)\n",
    "else:\n",
    "    print(\"if for loop is going to complete itself then it will execute.\")"
   ]
  },
  {
   "cell_type": "code",
   "execution_count": 7,
   "id": "299b7f40",
   "metadata": {},
   "outputs": [
    {
     "name": "stdout",
     "output_type": "stream",
     "text": [
      "1\n",
      "2\n",
      "3\n"
     ]
    }
   ],
   "source": [
    "for i in l:\n",
    "    if i==4:\n",
    "        break\n",
    "    print(i)\n",
    "else:\n",
    "    print(\"if for loop is going to complete itself then it will execute.\")"
   ]
  },
  {
   "cell_type": "code",
   "execution_count": 8,
   "id": "de5ff6a9",
   "metadata": {},
   "outputs": [],
   "source": [
    "t = (3,33,45,67,2,4,5,6)"
   ]
  },
  {
   "cell_type": "code",
   "execution_count": 9,
   "id": "5baefbb6",
   "metadata": {},
   "outputs": [
    {
     "data": {
      "text/plain": [
       "[0, 1, 2, 3, 4, 5, 6, 7]"
      ]
     },
     "execution_count": 9,
     "metadata": {},
     "output_type": "execute_result"
    }
   ],
   "source": [
    "list(range(len(t)))"
   ]
  },
  {
   "cell_type": "code",
   "execution_count": 10,
   "id": "27b5330b",
   "metadata": {},
   "outputs": [
    {
     "data": {
      "text/plain": [
       "3"
      ]
     },
     "execution_count": 10,
     "metadata": {},
     "output_type": "execute_result"
    }
   ],
   "source": [
    "t[0]"
   ]
  },
  {
   "cell_type": "code",
   "execution_count": 11,
   "id": "14aba66f",
   "metadata": {},
   "outputs": [
    {
     "name": "stdout",
     "output_type": "stream",
     "text": [
      "0 3\n",
      "1 33\n",
      "2 45\n",
      "3 67\n",
      "4 2\n",
      "5 4\n",
      "6 5\n",
      "7 6\n"
     ]
    }
   ],
   "source": [
    "for i in range(len(t)):\n",
    "    print(i, t[i])"
   ]
  },
  {
   "cell_type": "code",
   "execution_count": 12,
   "id": "a04bd111",
   "metadata": {},
   "outputs": [
    {
     "name": "stdout",
     "output_type": "stream",
     "text": [
      "0 i\n",
      "1 n\n",
      "2 e\n",
      "3 u\n",
      "4 r\n",
      "5 o\n",
      "6 n\n"
     ]
    }
   ],
   "source": [
    "s = \"ineuron\"\n",
    "for i in range(len(s)):\n",
    "    print(i, s[i])"
   ]
  },
  {
   "cell_type": "code",
   "execution_count": 13,
   "id": "c2ebc4d8",
   "metadata": {},
   "outputs": [],
   "source": [
    "s = \"ineuron\""
   ]
  },
  {
   "cell_type": "code",
   "execution_count": 14,
   "id": "36272dfb",
   "metadata": {},
   "outputs": [],
   "source": [
    "s1= s[::-1]"
   ]
  },
  {
   "cell_type": "code",
   "execution_count": 15,
   "id": "5b017da0",
   "metadata": {},
   "outputs": [
    {
     "name": "stdout",
     "output_type": "stream",
     "text": [
      "0 n\n",
      "1 o\n",
      "2 r\n",
      "3 u\n",
      "4 e\n",
      "5 n\n",
      "6 i\n"
     ]
    }
   ],
   "source": [
    "s1= s[::-1]\n",
    "for i in range(len(s1)):\n",
    "    print(i, s1[i])"
   ]
  },
  {
   "cell_type": "code",
   "execution_count": 16,
   "id": "c555047b",
   "metadata": {},
   "outputs": [
    {
     "name": "stdout",
     "output_type": "stream",
     "text": [
      "6 n\n",
      "5 o\n",
      "4 r\n",
      "3 u\n",
      "2 e\n",
      "1 n\n",
      "0 i\n"
     ]
    }
   ],
   "source": [
    "for i in list(range(len(s)-1,-1,-1)):\n",
    "    print(i, s[i])"
   ]
  },
  {
   "cell_type": "code",
   "execution_count": 17,
   "id": "a0faf46d",
   "metadata": {},
   "outputs": [
    {
     "name": "stdout",
     "output_type": "stream",
     "text": [
      "('key', 'gdhk') <class 'tuple'> <class 'str'>\n",
      "('gfgjj', 'chchgj') <class 'tuple'> <class 'str'>\n",
      "('hggg', 'jvhk') <class 'tuple'> <class 'str'>\n"
     ]
    }
   ],
   "source": [
    "d= {'key':'gdhk','gfgjj':'chchgj','hggg':'jvhk'}\n",
    "for i in d.items():\n",
    "    print (i,type(i),type(i[1]))"
   ]
  },
  {
   "cell_type": "code",
   "execution_count": 18,
   "id": "a748f47a",
   "metadata": {},
   "outputs": [],
   "source": [
    "l1= [\"sudh\",\"kumar\",32456,\"ineuron\",56678,789]\n",
    "l2=[]\n",
    "for i in l1:\n",
    "    if type(i) == int:\n",
    "        l2.append(i)"
   ]
  },
  {
   "cell_type": "code",
   "execution_count": 19,
   "id": "8c8a724a",
   "metadata": {},
   "outputs": [
    {
     "data": {
      "text/plain": [
       "[32456, 56678, 789]"
      ]
     },
     "execution_count": 19,
     "metadata": {},
     "output_type": "execute_result"
    }
   ],
   "source": [
    "l2"
   ]
  },
  {
   "cell_type": "code",
   "execution_count": 20,
   "id": "c3ed2a84",
   "metadata": {},
   "outputs": [],
   "source": [
    "d = {1:57789, \"name\":\"Gargi\", \"email_id\":\"gargimahata@gmail.com\", 234 :\"dfgj\", \"43\":\"sdgdcj\", 234 : \"sdfgdj\"}\n",
    "\n",
    "     "
   ]
  },
  {
   "cell_type": "code",
   "execution_count": 21,
   "id": "ab80739d",
   "metadata": {},
   "outputs": [
    {
     "name": "stdout",
     "output_type": "stream",
     "text": [
      "1\n",
      "name\n",
      "email_id\n",
      "234\n",
      "43\n"
     ]
    }
   ],
   "source": [
    "for i in d:\n",
    "    print (i)"
   ]
  },
  {
   "cell_type": "code",
   "execution_count": 22,
   "id": "d0615283",
   "metadata": {},
   "outputs": [
    {
     "name": "stdout",
     "output_type": "stream",
     "text": [
      "1 : 57789\n",
      "234 : sdfgdj\n"
     ]
    }
   ],
   "source": [
    "for i in d:\n",
    "    if type(i)== int:\n",
    "        print (i, \":\", d[i])"
   ]
  },
  {
   "cell_type": "code",
   "execution_count": 23,
   "id": "62ca5272",
   "metadata": {},
   "outputs": [],
   "source": [
    "s = \"aaaabbccdd\""
   ]
  },
  {
   "cell_type": "code",
   "execution_count": 24,
   "id": "6727bf8a",
   "metadata": {},
   "outputs": [
    {
     "data": {
      "text/plain": [
       "{'a', 'b', 'c', 'd'}"
      ]
     },
     "execution_count": 24,
     "metadata": {},
     "output_type": "execute_result"
    }
   ],
   "source": [
    "set(s)"
   ]
  },
  {
   "cell_type": "code",
   "execution_count": 25,
   "id": "0a050b8e",
   "metadata": {},
   "outputs": [
    {
     "name": "stdout",
     "output_type": "stream",
     "text": [
      "b : 2\n",
      "a : 4\n",
      "d : 2\n",
      "c : 2\n"
     ]
    }
   ],
   "source": [
    "for i in set(s):\n",
    "    print (i, \":\", s.count(i))"
   ]
  },
  {
   "cell_type": "code",
   "execution_count": 26,
   "id": "564fd650",
   "metadata": {},
   "outputs": [
    {
     "data": {
      "text/plain": [
       "4"
      ]
     },
     "execution_count": 26,
     "metadata": {},
     "output_type": "execute_result"
    }
   ],
   "source": [
    "s.count('a')"
   ]
  },
  {
   "cell_type": "code",
   "execution_count": 27,
   "id": "0d9fb85d",
   "metadata": {},
   "outputs": [],
   "source": [
    "i = 3456789023"
   ]
  },
  {
   "cell_type": "code",
   "execution_count": 28,
   "id": "bdd2fc48",
   "metadata": {},
   "outputs": [
    {
     "ename": "TypeError",
     "evalue": "'int' object is not iterable",
     "output_type": "error",
     "traceback": [
      "\u001b[0;31m---------------------------------------------------------------------------\u001b[0m",
      "\u001b[0;31mTypeError\u001b[0m                                 Traceback (most recent call last)",
      "\u001b[0;32m/var/folders/gy/zdp2mszs7f10ps3hr6svw1k40000gn/T/ipykernel_17964/1737525132.py\u001b[0m in \u001b[0;36m<module>\u001b[0;34m\u001b[0m\n\u001b[0;32m----> 1\u001b[0;31m \u001b[0;32mfor\u001b[0m \u001b[0mj\u001b[0m \u001b[0;32min\u001b[0m \u001b[0mi\u001b[0m\u001b[0;34m:\u001b[0m\u001b[0;34m\u001b[0m\u001b[0;34m\u001b[0m\u001b[0m\n\u001b[0m\u001b[1;32m      2\u001b[0m     \u001b[0mprint\u001b[0m \u001b[0;34m(\u001b[0m\u001b[0mj\u001b[0m\u001b[0;34m)\u001b[0m\u001b[0;34m\u001b[0m\u001b[0;34m\u001b[0m\u001b[0m\n",
      "\u001b[0;31mTypeError\u001b[0m: 'int' object is not iterable"
     ]
    }
   ],
   "source": [
    "for j in i:\n",
    "    print (j)"
   ]
  },
  {
   "cell_type": "code",
   "execution_count": 29,
   "id": "add3f365",
   "metadata": {},
   "outputs": [
    {
     "name": "stdout",
     "output_type": "stream",
     "text": [
      "3 <class 'int'>\n",
      "4 <class 'int'>\n",
      "5 <class 'int'>\n",
      "6 <class 'int'>\n",
      "7 <class 'int'>\n",
      "8 <class 'int'>\n",
      "9 <class 'int'>\n",
      "0 <class 'int'>\n",
      "2 <class 'int'>\n",
      "3 <class 'int'>\n"
     ]
    }
   ],
   "source": [
    "str(i)\n",
    "for j in str(i):\n",
    "    print (int(j), type(int(j)))\n"
   ]
  },
  {
   "cell_type": "code",
   "execution_count": 30,
   "id": "f8124125",
   "metadata": {},
   "outputs": [
    {
     "data": {
      "text/plain": [
       "str"
      ]
     },
     "execution_count": 30,
     "metadata": {},
     "output_type": "execute_result"
    }
   ],
   "source": [
    "type(j)"
   ]
  },
  {
   "cell_type": "code",
   "execution_count": 31,
   "id": "eb9ed3db",
   "metadata": {},
   "outputs": [],
   "source": [
    "t = (\"sudh\", \"kumar\", [1,2,3,4,5], (3,4,5),{\"key\":\"sudh\", \"key2\":\"kumar\"})\n",
    "\n"
   ]
  },
  {
   "cell_type": "code",
   "execution_count": 32,
   "id": "fe4d6f75",
   "metadata": {},
   "outputs": [
    {
     "name": "stdout",
     "output_type": "stream",
     "text": [
      "['s', 'u', 'd', 'h']\n",
      "['k', 'u', 'm', 'a', 'r']\n",
      "[1, 2, 3, 4, 5]\n",
      "[3, 4, 5]\n",
      "['key', 'key2']\n"
     ]
    }
   ],
   "source": [
    "for i in t:\n",
    "    print (list(i))"
   ]
  },
  {
   "cell_type": "code",
   "execution_count": 33,
   "id": "e4aa2d6b",
   "metadata": {},
   "outputs": [
    {
     "name": "stdout",
     "output_type": "stream",
     "text": [
      "3\n",
      "3\n"
     ]
    }
   ],
   "source": [
    "for i in t:\n",
    "    if type(i) == list or type(i)== tuple:\n",
    "        for j in i:\n",
    "            if j == 3:\n",
    "                print(j)"
   ]
  },
  {
   "cell_type": "code",
   "execution_count": 34,
   "id": "9cbec14d",
   "metadata": {},
   "outputs": [],
   "source": [
    "t1 = (\"sudh\", \"kumar\", [1,2,3,4,5], (3,4,5),{3:3, \"key2\":\"kumar\"})\n",
    "\n"
   ]
  },
  {
   "cell_type": "code",
   "execution_count": 35,
   "id": "35da7f1c",
   "metadata": {},
   "outputs": [
    {
     "name": "stdout",
     "output_type": "stream",
     "text": [
      "3\n",
      "3\n",
      "{3: 3, 'key2': 'kumar'}\n",
      "(3, 3)\n",
      "('key2', 'kumar')\n"
     ]
    }
   ],
   "source": [
    "for i in t1:\n",
    "    if type(i) == list or type(i)== tuple:\n",
    "        for j in i:\n",
    "            if j == 3:\n",
    "                print(j)\n",
    "    if type(i) == dict:\n",
    "        print(i)\n",
    "        for k in i.items():\n",
    "            print(k)"
   ]
  },
  {
   "cell_type": "code",
   "execution_count": 38,
   "id": "f16249c7",
   "metadata": {},
   "outputs": [
    {
     "name": "stdout",
     "output_type": "stream",
     "text": [
      "[1, 2, 3, 4, 5]\n",
      "15\n"
     ]
    }
   ],
   "source": [
    "for i in t1:\n",
    "    if type(i) == list:\n",
    "        print (i)\n",
    "        l1= sum(i)\n",
    "        print (l1)"
   ]
  },
  {
   "cell_type": "code",
   "execution_count": 37,
   "id": "c086e0e0",
   "metadata": {},
   "outputs": [
    {
     "data": {
      "text/plain": [
       "[1, 2, 3, 4, 'sudh', 'kumar', 45.56]"
      ]
     },
     "execution_count": 37,
     "metadata": {},
     "output_type": "execute_result"
    }
   ],
   "source": [
    "l"
   ]
  },
  {
   "cell_type": "code",
   "execution_count": null,
   "id": "29a2a17e",
   "metadata": {},
   "outputs": [],
   "source": []
  },
  {
   "cell_type": "code",
   "execution_count": null,
   "id": "f4dfe9ac",
   "metadata": {},
   "outputs": [],
   "source": []
  },
  {
   "cell_type": "code",
   "execution_count": null,
   "id": "c96ada4c",
   "metadata": {},
   "outputs": [],
   "source": []
  },
  {
   "cell_type": "code",
   "execution_count": null,
   "id": "75e55192",
   "metadata": {},
   "outputs": [],
   "source": []
  }
 ],
 "metadata": {
  "kernelspec": {
   "display_name": "Python 3 (ipykernel)",
   "language": "python",
   "name": "python3"
  },
  "language_info": {
   "codemirror_mode": {
    "name": "ipython",
    "version": 3
   },
   "file_extension": ".py",
   "mimetype": "text/x-python",
   "name": "python",
   "nbconvert_exporter": "python",
   "pygments_lexer": "ipython3",
   "version": "3.9.7"
  }
 },
 "nbformat": 4,
 "nbformat_minor": 5
}
