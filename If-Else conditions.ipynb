{
 "cells": [
  {
   "cell_type": "code",
   "execution_count": 1,
   "id": "c08987b7",
   "metadata": {},
   "outputs": [
    {
     "name": "stdout",
     "output_type": "stream",
     "text": [
      "this is my first condition\n"
     ]
    }
   ],
   "source": [
    "# If statements\n",
    "\n",
    "a = 10\n",
    "if a == 10 :\n",
    "    print (\"this is my first condition\")"
   ]
  },
  {
   "cell_type": "code",
   "execution_count": 3,
   "id": "7c6a9da1",
   "metadata": {},
   "outputs": [],
   "source": [
    "a = 10\n",
    "if a == 11 :\n",
    "    print (\"this is my first condition\")"
   ]
  },
  {
   "cell_type": "code",
   "execution_count": 4,
   "id": "d44c5274",
   "metadata": {},
   "outputs": [],
   "source": [
    "a = 10\n",
    "if a > 5 :\n",
    "    pass\n",
    "\n",
    "# pass replaces the body"
   ]
  },
  {
   "cell_type": "code",
   "execution_count": 6,
   "id": "15cb5e1e",
   "metadata": {},
   "outputs": [
    {
     "name": "stdout",
     "output_type": "stream",
     "text": [
      "print this if condition is true.\n"
     ]
    }
   ],
   "source": [
    "a = 10\n",
    "if a > 8 :\n",
    "    print(\"print this if condition is true.\")"
   ]
  },
  {
   "cell_type": "code",
   "execution_count": 7,
   "id": "c778633f",
   "metadata": {},
   "outputs": [],
   "source": [
    "a = 10\n",
    "if a < 8 :\n",
    "    print(\"print this if condition is true.\")"
   ]
  },
  {
   "cell_type": "code",
   "execution_count": 8,
   "id": "f8dab9f9",
   "metadata": {},
   "outputs": [
    {
     "name": "stdout",
     "output_type": "stream",
     "text": [
      "my condition is false\n"
     ]
    }
   ],
   "source": [
    "a = 10\n",
    "if a != 11 :\n",
    "    print(\"my condition is false\")\n",
    "else :\n",
    "    print(\"print this\")"
   ]
  },
  {
   "cell_type": "code",
   "execution_count": 9,
   "id": "96657926",
   "metadata": {},
   "outputs": [
    {
     "name": "stdout",
     "output_type": "stream",
     "text": [
      "if all the blocks fail then do this\n"
     ]
    }
   ],
   "source": [
    "a = 10 \n",
    "if a == 12:\n",
    "    print (\"here we are trying to compare 10 with 12\")\n",
    "elif a == 11:\n",
    "    print (\"we are trying to compare 10 with 11\")\n",
    "else:\n",
    "    print (\"if all the blocks fail then do this\")"
   ]
  },
  {
   "cell_type": "code",
   "execution_count": 11,
   "id": "26e46e84",
   "metadata": {},
   "outputs": [
    {
     "name": "stdout",
     "output_type": "stream",
     "text": [
      "we are trying to compare 10 with 11\n"
     ]
    }
   ],
   "source": [
    "a = 11 \n",
    "if a == 12:\n",
    "    print (\"here we are trying to compare 10 with 12\")\n",
    "elif a == 11:\n",
    "    print (\"we are trying to compare 10 with 11\")\n",
    "else:\n",
    "    print (\"if all the blocks fail then do this\")"
   ]
  },
  {
   "cell_type": "code",
   "execution_count": 12,
   "id": "d63162e5",
   "metadata": {},
   "outputs": [],
   "source": [
    "price = 500\n",
    "if price > 500:\n",
    "    print (\"may be I cannot buy a jacket.\")\n",
    "elif price < 500:\n",
    "    print (\"may be I can buy a jacket.\")"
   ]
  },
  {
   "cell_type": "code",
   "execution_count": 14,
   "id": "6e170340",
   "metadata": {},
   "outputs": [
    {
     "name": "stdout",
     "output_type": "stream",
     "text": [
      "may be I can buy a jacket.\n"
     ]
    }
   ],
   "source": [
    "price = 500\n",
    "if price > 500:\n",
    "    print (\"may be I cannot buy a jacket.\")\n",
    "elif price <= 500:\n",
    "    print (\"may be I can buy a jacket.\")"
   ]
  },
  {
   "cell_type": "code",
   "execution_count": 15,
   "id": "ddc3a0c6",
   "metadata": {},
   "outputs": [
    {
     "ename": "SyntaxError",
     "evalue": "invalid syntax (1973409621.py, line 6)",
     "output_type": "error",
     "traceback": [
      "\u001b[0;36m  File \u001b[0;32m\"/var/folders/gy/zdp2mszs7f10ps3hr6svw1k40000gn/T/ipykernel_4334/1973409621.py\"\u001b[0;36m, line \u001b[0;32m6\u001b[0m\n\u001b[0;31m    else price == 500:\u001b[0m\n\u001b[0m         ^\u001b[0m\n\u001b[0;31mSyntaxError\u001b[0m\u001b[0;31m:\u001b[0m invalid syntax\n"
     ]
    }
   ],
   "source": [
    "price = 500\n",
    "if price > 500:\n",
    "    print (\"may be I cannot buy a jacket.\")\n",
    "elif price < 500:\n",
    "    print (\"may be I can buy a jacket.\")\n",
    "else price == 500:\n",
    "    print (\"I donot know.\")\n",
    "\n",
    "    \n",
    "# Cannot write a condition with else."
   ]
  },
  {
   "cell_type": "code",
   "execution_count": 16,
   "id": "377a6e26",
   "metadata": {},
   "outputs": [
    {
     "name": "stdout",
     "output_type": "stream",
     "text": [
      "I can buy.\n"
     ]
    }
   ],
   "source": [
    "price = 500\n",
    "if price > 500:\n",
    "    print (\"may be I cannot buy a jacket.\")\n",
    "elif price < 500:\n",
    "    print (\"may be I can buy a jacket.\")\n",
    "elif price == 500:\n",
    "    print (\"I can buy.\")\n",
    "else:\n",
    "    print (\"I do not know\")"
   ]
  },
  {
   "cell_type": "code",
   "execution_count": 17,
   "id": "4ac0f6b3",
   "metadata": {},
   "outputs": [
    {
     "data": {
      "text/plain": [
       "False"
      ]
     },
     "execution_count": 17,
     "metadata": {},
     "output_type": "execute_result"
    }
   ],
   "source": [
    "price > 500"
   ]
  },
  {
   "cell_type": "code",
   "execution_count": 18,
   "id": "acd3f610",
   "metadata": {},
   "outputs": [
    {
     "data": {
      "text/plain": [
       "False"
      ]
     },
     "execution_count": 18,
     "metadata": {},
     "output_type": "execute_result"
    }
   ],
   "source": [
    "price < 500"
   ]
  },
  {
   "cell_type": "code",
   "execution_count": 19,
   "id": "7a207c0e",
   "metadata": {},
   "outputs": [
    {
     "data": {
      "text/plain": [
       "True"
      ]
     },
     "execution_count": 19,
     "metadata": {},
     "output_type": "execute_result"
    }
   ],
   "source": [
    "price == 500"
   ]
  },
  {
   "cell_type": "code",
   "execution_count": 20,
   "id": "811e242e",
   "metadata": {},
   "outputs": [
    {
     "data": {
      "text/plain": [
       "True"
      ]
     },
     "execution_count": 20,
     "metadata": {},
     "output_type": "execute_result"
    }
   ],
   "source": [
    "l = [1,2,3,4,5,6]\n",
    "2 in l"
   ]
  },
  {
   "cell_type": "code",
   "execution_count": 21,
   "id": "4952f576",
   "metadata": {},
   "outputs": [
    {
     "name": "stdout",
     "output_type": "stream",
     "text": [
      "try to perform a task\n"
     ]
    }
   ],
   "source": [
    "l = [1,2,3,4,5,6]\n",
    "if 2 in l:\n",
    "    print (\"try to perform a task\")\n",
    "else:\n",
    "    print (\"do not perform this task\")"
   ]
  },
  {
   "cell_type": "code",
   "execution_count": 22,
   "id": "1cec02f5",
   "metadata": {},
   "outputs": [
    {
     "name": "stdout",
     "output_type": "stream",
     "text": [
      "do not perform this task\n"
     ]
    }
   ],
   "source": [
    "l = [1,2,3,4,5,6]\n",
    "if 60 in l:\n",
    "    print (\"try to perform a task\")\n",
    "else:\n",
    "    print (\"do not perform this task\")"
   ]
  },
  {
   "cell_type": "code",
   "execution_count": 24,
   "id": "83629377",
   "metadata": {},
   "outputs": [
    {
     "name": "stdout",
     "output_type": "stream",
     "text": [
      "try to do an addition\n"
     ]
    }
   ],
   "source": [
    "if 1 in l:\n",
    "    print (\"try to do an addition\")\n",
    "elif 2 in l:\n",
    "    print (\"try to do an substration\")\n",
    "elif 3 in l:\n",
    "    print (\"try to do an multiplication\")\n",
    "    \n",
    "# once a condition is true the loop breaks and comes out of the block. So the rest won't get execuated.\n"
   ]
  },
  {
   "cell_type": "code",
   "execution_count": 25,
   "id": "952eeceb",
   "metadata": {},
   "outputs": [
    {
     "name": "stdout",
     "output_type": "stream",
     "text": [
      "try to do an substration\n"
     ]
    }
   ],
   "source": [
    "if 10 in l:\n",
    "    print (\"try to do an addition\")\n",
    "elif 2 in l:\n",
    "    print (\"try to do an substration\")\n",
    "elif 3 in l:\n",
    "    print (\"try to do an multiplication\")"
   ]
  },
  {
   "cell_type": "code",
   "execution_count": 26,
   "id": "fed72a42",
   "metadata": {},
   "outputs": [
    {
     "name": "stdout",
     "output_type": "stream",
     "text": [
      "try to do an substration\n",
      "this is new statement\n"
     ]
    }
   ],
   "source": [
    "if 10 in l:\n",
    "    print (\"try to do an addition\")\n",
    "elif 2 in l:\n",
    "    print (\"try to do an substration\")\n",
    "elif 3 in l:\n",
    "    print (\"try to do an multiplication\")\n",
    "if 4 in l:                              # complete new block.\n",
    "    print (\"this is new statement\")"
   ]
  },
  {
   "cell_type": "code",
   "execution_count": 27,
   "id": "23ef6877",
   "metadata": {},
   "outputs": [],
   "source": [
    "a = 400\n"
   ]
  },
  {
   "cell_type": "code",
   "execution_count": 30,
   "id": "f7803e6e",
   "metadata": {},
   "outputs": [
    {
     "name": "stdout",
     "output_type": "stream",
     "text": [
      "400\n"
     ]
    }
   ],
   "source": [
    "b = input() #for user input. The I/P in string."
   ]
  },
  {
   "cell_type": "code",
   "execution_count": 31,
   "id": "c2eb23e5",
   "metadata": {},
   "outputs": [
    {
     "data": {
      "text/plain": [
       "'400'"
      ]
     },
     "execution_count": 31,
     "metadata": {},
     "output_type": "execute_result"
    }
   ],
   "source": [
    "b"
   ]
  },
  {
   "cell_type": "code",
   "execution_count": 32,
   "id": "70416933",
   "metadata": {},
   "outputs": [
    {
     "data": {
      "text/plain": [
       "str"
      ]
     },
     "execution_count": 32,
     "metadata": {},
     "output_type": "execute_result"
    }
   ],
   "source": [
    "type(b)"
   ]
  },
  {
   "cell_type": "code",
   "execution_count": 33,
   "id": "de346b08",
   "metadata": {},
   "outputs": [
    {
     "name": "stdout",
     "output_type": "stream",
     "text": [
      "4\n"
     ]
    }
   ],
   "source": [
    "b = int(input())"
   ]
  },
  {
   "cell_type": "code",
   "execution_count": 34,
   "id": "4787e522",
   "metadata": {},
   "outputs": [
    {
     "data": {
      "text/plain": [
       "int"
      ]
     },
     "execution_count": 34,
     "metadata": {},
     "output_type": "execute_result"
    }
   ],
   "source": [
    "type(b)"
   ]
  },
  {
   "cell_type": "code",
   "execution_count": 36,
   "id": "155f8116",
   "metadata": {},
   "outputs": [
    {
     "name": "stdout",
     "output_type": "stream",
     "text": [
      "fsfbbbgb\n"
     ]
    },
    {
     "ename": "ValueError",
     "evalue": "invalid literal for int() with base 10: 'fsfbbbgb'",
     "output_type": "error",
     "traceback": [
      "\u001b[0;31m---------------------------------------------------------------------------\u001b[0m",
      "\u001b[0;31mValueError\u001b[0m                                Traceback (most recent call last)",
      "\u001b[0;32m/var/folders/gy/zdp2mszs7f10ps3hr6svw1k40000gn/T/ipykernel_4334/1614757858.py\u001b[0m in \u001b[0;36m<module>\u001b[0;34m\u001b[0m\n\u001b[0;32m----> 1\u001b[0;31m \u001b[0mprice\u001b[0m \u001b[0;34m=\u001b[0m \u001b[0mint\u001b[0m \u001b[0;34m(\u001b[0m\u001b[0minput\u001b[0m\u001b[0;34m(\u001b[0m\u001b[0;34m)\u001b[0m\u001b[0;34m)\u001b[0m\u001b[0;34m\u001b[0m\u001b[0;34m\u001b[0m\u001b[0m\n\u001b[0m\u001b[1;32m      2\u001b[0m \u001b[0;32mif\u001b[0m \u001b[0mprice\u001b[0m \u001b[0;34m<\u001b[0m \u001b[0;36m500\u001b[0m\u001b[0;34m:\u001b[0m\u001b[0;34m\u001b[0m\u001b[0;34m\u001b[0m\u001b[0m\n\u001b[1;32m      3\u001b[0m     \u001b[0mprint\u001b[0m \u001b[0;34m(\u001b[0m\u001b[0;34m\"I can buy something.\"\u001b[0m\u001b[0;34m)\u001b[0m\u001b[0;34m\u001b[0m\u001b[0;34m\u001b[0m\u001b[0m\n\u001b[1;32m      4\u001b[0m     \u001b[0;32mif\u001b[0m \u001b[0mprice\u001b[0m \u001b[0;34m<\u001b[0m \u001b[0;36m400\u001b[0m\u001b[0;34m:\u001b[0m\u001b[0;34m\u001b[0m\u001b[0;34m\u001b[0m\u001b[0m\n\u001b[1;32m      5\u001b[0m         \u001b[0mprint\u001b[0m \u001b[0;34m(\u001b[0m\u001b[0;34m\"I can buy a jacket\"\u001b[0m\u001b[0;34m)\u001b[0m\u001b[0;34m\u001b[0m\u001b[0;34m\u001b[0m\u001b[0m\n",
      "\u001b[0;31mValueError\u001b[0m: invalid literal for int() with base 10: 'fsfbbbgb'"
     ]
    }
   ],
   "source": [
    "price = int (input())\n",
    "if price < 500:\n",
    "    print (\"I can buy something.\")\n",
    "    if price < 400:\n",
    "        print (\"I can buy a jacket\")\n",
    "    elif price > 300:\n",
    "        print (\"I can buy a shirt\")\n",
    "    else:\n",
    "        print (\"Can not buy anything\")\n",
    "else:\n",
    "    print (\"I am broke\")"
   ]
  },
  {
   "cell_type": "code",
   "execution_count": 37,
   "id": "ec8e1030",
   "metadata": {},
   "outputs": [
    {
     "name": "stdout",
     "output_type": "stream",
     "text": [
      "600\n",
      "I am broke\n"
     ]
    }
   ],
   "source": [
    "price = int (input())\n",
    "if price < 500:\n",
    "    print (\"I can buy something.\")\n",
    "    if price < 400:\n",
    "        print (\"I can buy a jacket\")\n",
    "    elif price > 300:\n",
    "        print (\"I can buy a shirt\")\n",
    "    else:\n",
    "        print (\"Can not buy anything\")\n",
    "else:\n",
    "    print (\"I am broke\")"
   ]
  },
  {
   "cell_type": "code",
   "execution_count": 38,
   "id": "5dab48de",
   "metadata": {},
   "outputs": [
    {
     "name": "stdout",
     "output_type": "stream",
     "text": [
      "500\n",
      "I am broke\n"
     ]
    }
   ],
   "source": [
    "price = int (input())\n",
    "if price < 500:\n",
    "    print (\"I can buy something.\")\n",
    "    if price < 400:\n",
    "        print (\"I can buy a jacket\")\n",
    "    elif price > 300:\n",
    "        print (\"I can buy a shirt\")\n",
    "    else:\n",
    "        print (\"Can not buy anything\")\n",
    "else:\n",
    "    print (\"I am broke\")"
   ]
  },
  {
   "cell_type": "code",
   "execution_count": 39,
   "id": "cf031a82",
   "metadata": {},
   "outputs": [
    {
     "name": "stdout",
     "output_type": "stream",
     "text": [
      "490\n",
      "I can buy something.\n",
      "I can buy a shirt\n"
     ]
    }
   ],
   "source": [
    "price = int (input())\n",
    "if price < 500:\n",
    "    print (\"I can buy something.\")\n",
    "    if price < 400:\n",
    "        print (\"I can buy a jacket\")\n",
    "    elif price > 300:\n",
    "        print (\"I can buy a shirt\")\n",
    "    else:\n",
    "        print (\"Can not buy anything\")\n",
    "else:\n",
    "    print (\"I am broke\")"
   ]
  },
  {
   "cell_type": "code",
   "execution_count": 40,
   "id": "24bce6c2",
   "metadata": {},
   "outputs": [
    {
     "name": "stdout",
     "output_type": "stream",
     "text": [
      "490\n",
      "I can buy a shirt\n"
     ]
    }
   ],
   "source": [
    "price = int (input())\n",
    "if price < 500:\n",
    "    if price < 400:\n",
    "        print (\"I can buy a jacket\")\n",
    "    elif price > 300:\n",
    "        print (\"I can buy a shirt\")\n",
    "    else:\n",
    "        print (\"Can not buy anything\")\n",
    "else:\n",
    "    print (\"I am broke\")"
   ]
  },
  {
   "cell_type": "code",
   "execution_count": 41,
   "id": "b754c6e2",
   "metadata": {},
   "outputs": [
    {
     "name": "stdout",
     "output_type": "stream",
     "text": [
      "300\n",
      "I can buy something.\n",
      "I can buy a jacket\n"
     ]
    }
   ],
   "source": [
    "price = int (input())\n",
    "if price < 500:\n",
    "    print (\"I can buy something.\")\n",
    "    if price < 400:\n",
    "        print (\"I can buy a jacket\")\n",
    "    elif price > 300:\n",
    "        print (\"I can buy a shirt\")\n",
    "    else:\n",
    "        print (\"Can not buy anything\")\n",
    "else:\n",
    "    print (\"I am broke\")"
   ]
  },
  {
   "cell_type": "code",
   "execution_count": 43,
   "id": "7eaa90b6",
   "metadata": {},
   "outputs": [
    {
     "name": "stdout",
     "output_type": "stream",
     "text": [
      "456\n",
      "I can buy something.\n",
      "I can buy a shirt\n",
      "Will decide\n"
     ]
    }
   ],
   "source": [
    "price = int (input())\n",
    "if price < 500:\n",
    "    print (\"I can buy something.\")\n",
    "    if price < 400:\n",
    "        print (\"I can buy a jacket\")\n",
    "    elif price > 300:\n",
    "        print (\"I can buy a shirt\")\n",
    "        if price > 200:\n",
    "            print (\"Will decide\")\n",
    "            \n",
    "    else:\n",
    "        print (\"Can not buy anything\")\n",
    "else:\n",
    "    print (\"I am broke\")\n",
    "    if price > 500:\n",
    "        price (\"let's try something else\")"
   ]
  },
  {
   "cell_type": "code",
   "execution_count": 50,
   "id": "804f0f17",
   "metadata": {},
   "outputs": [
    {
     "name": "stdout",
     "output_type": "stream",
     "text": [
      "300\n",
      "NO GRE\n",
      "NO TOFFEL\n",
      "Try something else\n"
     ]
    }
   ],
   "source": [
    "M = int (input())\n",
    "if M < 600:\n",
    "    print (\"NO GRE\")\n",
    "    if M <500:\n",
    "        print (\"NO TOFFEL\")\n",
    "        if M < 400:\n",
    "            print (\"Try something else\")\n",
    "    else:\n",
    "        print (\"GOT TOFEEL\")\n",
    "else:\n",
    "    print(\"You got GRE Congo\")"
   ]
  },
  {
   "cell_type": "code",
   "execution_count": 46,
   "id": "89a6e2f9",
   "metadata": {},
   "outputs": [
    {
     "name": "stdout",
     "output_type": "stream",
     "text": [
      "enter a floating point number0\n",
      "entered value is Zero\n"
     ]
    }
   ],
   "source": [
    "val = float (input(\"enter a floating point number\"))\n",
    "if val >= 0 :\n",
    "    if val == 0:\n",
    "        print (\"entered value is Zero\")\n",
    "    else:\n",
    "        print (\"entered value is a positive number\")\n",
    "else:\n",
    "    print (\"entered value is a negative number\")"
   ]
  },
  {
   "cell_type": "code",
   "execution_count": 47,
   "id": "e1f51ac2",
   "metadata": {},
   "outputs": [
    {
     "name": "stdout",
     "output_type": "stream",
     "text": [
      "enter a floating point number5\n",
      "entered value is a positive number\n"
     ]
    }
   ],
   "source": [
    "val = float (input(\"enter a floating point number\"))\n",
    "if val >= 0 :\n",
    "    if val == 0:\n",
    "        print (\"entered value is Zero\")\n",
    "    else:\n",
    "        print (\"entered value is a positive number\")\n",
    "else:\n",
    "    print (\"entered value is a negative number\")"
   ]
  },
  {
   "cell_type": "code",
   "execution_count": 48,
   "id": "f25c6701",
   "metadata": {},
   "outputs": [
    {
     "name": "stdout",
     "output_type": "stream",
     "text": [
      "enter a floating point number-6\n",
      "entered value is a negative number\n"
     ]
    }
   ],
   "source": [
    "val = float (input(\"enter a floating point number\"))\n",
    "if val >= 0 :\n",
    "    if val == 0:\n",
    "        print (\"entered value is Zero\")\n",
    "    else:\n",
    "        print (\"entered value is a positive number\")\n",
    "else:\n",
    "    print (\"entered value is a negative number\")"
   ]
  },
  {
   "cell_type": "code",
   "execution_count": 49,
   "id": "5dacb1b8",
   "metadata": {},
   "outputs": [
    {
     "name": "stdout",
     "output_type": "stream",
     "text": [
      "enter a floating point number0.7\n",
      "entered value is a positive number\n"
     ]
    }
   ],
   "source": [
    "val = float (input(\"enter a floating point number\"))\n",
    "if val >= 0 :\n",
    "    if val == 0:\n",
    "        print (\"entered value is Zero\")\n",
    "    else:\n",
    "        print (\"entered value is a positive number\")\n",
    "else:\n",
    "    print (\"entered value is a negative number\")"
   ]
  },
  {
   "cell_type": "code",
   "execution_count": 52,
   "id": "2724a908",
   "metadata": {},
   "outputs": [
    {
     "name": "stdout",
     "output_type": "stream",
     "text": [
      "try to do something\n"
     ]
    }
   ],
   "source": [
    "a = 10\n",
    "if a <= 10:\n",
    "    print (\"try to do something\")"
   ]
  },
  {
   "cell_type": "code",
   "execution_count": 53,
   "id": "7fe425e1",
   "metadata": {},
   "outputs": [
    {
     "name": "stdout",
     "output_type": "stream",
     "text": [
      "try to do something\n"
     ]
    }
   ],
   "source": [
    "a = 10\n",
    "if a < 10 or a== 10:\n",
    "    print (\"try to do something\")"
   ]
  },
  {
   "cell_type": "code",
   "execution_count": 54,
   "id": "873e97eb",
   "metadata": {},
   "outputs": [],
   "source": [
    "a = 10\n",
    "if a < 10 and a== 10:\n",
    "    print (\"try to do something\")"
   ]
  },
  {
   "cell_type": "code",
   "execution_count": 55,
   "id": "0fcc231c",
   "metadata": {},
   "outputs": [],
   "source": [
    "a = 10\n",
    "if a < 10 or a > 10:\n",
    "    print (\"try to do something\")"
   ]
  },
  {
   "cell_type": "code",
   "execution_count": 56,
   "id": "43bd0ee5",
   "metadata": {},
   "outputs": [
    {
     "name": "stdout",
     "output_type": "stream",
     "text": [
      "try to do something\n"
     ]
    }
   ],
   "source": [
    "a = 10\n",
    "if a < 10 or a == 10:\n",
    "    print (\"try to do something\")"
   ]
  },
  {
   "cell_type": "code",
   "execution_count": 59,
   "id": "4f78c09b",
   "metadata": {},
   "outputs": [],
   "source": [
    "a = \"sudh\"\n",
    "if a== \"sudh\" and a== \"Sudh\":\n",
    "    print(\"this is sudh\")\n",
    "    \n",
    "# as Python is case sensitive, it won't work."
   ]
  },
  {
   "cell_type": "code",
   "execution_count": 60,
   "id": "acbe2f32",
   "metadata": {},
   "outputs": [
    {
     "name": "stdout",
     "output_type": "stream",
     "text": [
      "this is sudh\n"
     ]
    }
   ],
   "source": [
    "a = \"sudh\"\n",
    "if a== \"sudh\" or a== \"Sudh\":\n",
    "    print(\"this is sudh\")"
   ]
  },
  {
   "cell_type": "code",
   "execution_count": 62,
   "id": "d59f9bb3",
   "metadata": {},
   "outputs": [],
   "source": [
    "a = 10\n",
    "b = 11\n",
    "c = 12\n",
    "d = 13\n",
    "if a == 9 and b == 11 and c == 12 and d == 13:\n",
    "    print(\"let's do something\")"
   ]
  },
  {
   "cell_type": "code",
   "execution_count": 63,
   "id": "df5c2598",
   "metadata": {},
   "outputs": [
    {
     "name": "stdout",
     "output_type": "stream",
     "text": [
      "let's do something\n"
     ]
    }
   ],
   "source": [
    "a = 10\n",
    "b = 11\n",
    "c = 12\n",
    "d = 13\n",
    "if a == 9 or b == 11 and c == 12 and d == 13:\n",
    "    print(\"let's do something\")"
   ]
  },
  {
   "cell_type": "code",
   "execution_count": 64,
   "id": "7c18f74c",
   "metadata": {},
   "outputs": [],
   "source": [
    "d = {'key1' : \"value\",'key2' : \"Sudh\", 'key3':\"iNeuron\"}"
   ]
  },
  {
   "cell_type": "code",
   "execution_count": 78,
   "id": "313294d2",
   "metadata": {},
   "outputs": [
    {
     "name": "stdout",
     "output_type": "stream",
     "text": [
      "all values\n",
      "dict_values(['value', 'Sudh', 'iNeuron'])\n"
     ]
    }
   ],
   "source": [
    "if d['key1'] == \"value\" and d['key2'] == \"Sudh\" and d['key3'] == \"iNeuron\":\n",
    "    print(\"all values\")\n",
    "    print(d.values())\n",
    "    "
   ]
  },
  {
   "cell_type": "code",
   "execution_count": 85,
   "id": "262fde4b",
   "metadata": {},
   "outputs": [
    {
     "name": "stdout",
     "output_type": "stream",
     "text": [
      "all the values are not verified\n"
     ]
    }
   ],
   "source": [
    "if d['key1'] == \"value\" and d['key2'] == \"sudh\" and d['key3'] == \"iNeuron\":\n",
    "    print(\"all values\")\n",
    "    print(d.values())\n",
    "else:\n",
    "    print(\"all the values are not verified\")"
   ]
  },
  {
   "cell_type": "code",
   "execution_count": 80,
   "id": "90639749",
   "metadata": {},
   "outputs": [],
   "source": [
    "l = [1,2,3,4,5,\"sudh\", 234.45]"
   ]
  },
  {
   "cell_type": "code",
   "execution_count": 81,
   "id": "3ef02a66",
   "metadata": {},
   "outputs": [
    {
     "data": {
      "text/plain": [
       "1"
      ]
     },
     "execution_count": 81,
     "metadata": {},
     "output_type": "execute_result"
    }
   ],
   "source": [
    "l[0]"
   ]
  },
  {
   "cell_type": "code",
   "execution_count": 82,
   "id": "5afef26f",
   "metadata": {},
   "outputs": [
    {
     "data": {
      "text/plain": [
       "[3, 4, 5]"
      ]
     },
     "execution_count": 82,
     "metadata": {},
     "output_type": "execute_result"
    }
   ],
   "source": [
    "l[2:5]"
   ]
  },
  {
   "cell_type": "code",
   "execution_count": 83,
   "id": "934be674",
   "metadata": {},
   "outputs": [
    {
     "name": "stdout",
     "output_type": "stream",
     "text": [
      "1\n",
      "2\n",
      "3\n",
      "4\n",
      "5\n",
      "sudh\n",
      "234.45\n"
     ]
    }
   ],
   "source": [
    "for i in l:\n",
    "    print(i)"
   ]
  },
  {
   "cell_type": "code",
   "execution_count": 84,
   "id": "7b0cc067",
   "metadata": {},
   "outputs": [
    {
     "name": "stdout",
     "output_type": "stream",
     "text": [
      "2\n",
      "3\n",
      "4\n",
      "5\n",
      "6\n"
     ]
    },
    {
     "ename": "TypeError",
     "evalue": "can only concatenate str (not \"int\") to str",
     "output_type": "error",
     "traceback": [
      "\u001b[0;31m---------------------------------------------------------------------------\u001b[0m",
      "\u001b[0;31mTypeError\u001b[0m                                 Traceback (most recent call last)",
      "\u001b[0;32m/var/folders/gy/zdp2mszs7f10ps3hr6svw1k40000gn/T/ipykernel_4334/949430040.py\u001b[0m in \u001b[0;36m<module>\u001b[0;34m\u001b[0m\n\u001b[1;32m      1\u001b[0m \u001b[0;32mfor\u001b[0m \u001b[0mi\u001b[0m \u001b[0;32min\u001b[0m \u001b[0ml\u001b[0m\u001b[0;34m:\u001b[0m\u001b[0;34m\u001b[0m\u001b[0;34m\u001b[0m\u001b[0m\n\u001b[0;32m----> 2\u001b[0;31m     \u001b[0mprint\u001b[0m\u001b[0;34m(\u001b[0m\u001b[0mi\u001b[0m\u001b[0;34m+\u001b[0m\u001b[0;36m1\u001b[0m\u001b[0;34m)\u001b[0m\u001b[0;34m\u001b[0m\u001b[0;34m\u001b[0m\u001b[0m\n\u001b[0m",
      "\u001b[0;31mTypeError\u001b[0m: can only concatenate str (not \"int\") to str"
     ]
    }
   ],
   "source": [
    "for i in l:\n",
    "    print(i+1)"
   ]
  },
  {
   "cell_type": "code",
   "execution_count": 86,
   "id": "3615895e",
   "metadata": {},
   "outputs": [
    {
     "name": "stdout",
     "output_type": "stream",
     "text": [
      "2\n",
      "3\n",
      "4\n",
      "5\n",
      "6\n",
      "sudh1\n",
      "235.45\n"
     ]
    }
   ],
   "source": [
    "for i in l:\n",
    "    if type(i) == int or type(i) == float:\n",
    "        print(i+1)\n",
    "    elif type(i) == str:\n",
    "        print(i+str(1))\n",
    "    \n",
    "         "
   ]
  },
  {
   "cell_type": "code",
   "execution_count": 87,
   "id": "2ba8a2a0",
   "metadata": {},
   "outputs": [
    {
     "data": {
      "text/plain": [
       "[1, 2, 3, 4, 5, 'sudh', 234.45]"
      ]
     },
     "execution_count": 87,
     "metadata": {},
     "output_type": "execute_result"
    }
   ],
   "source": [
    "l"
   ]
  },
  {
   "cell_type": "code",
   "execution_count": 92,
   "id": "2c7e4255",
   "metadata": {},
   "outputs": [],
   "source": [
    "l1=[]\n",
    "for i in l:\n",
    "    if type(i) == int:\n",
    "        l1.append(i)"
   ]
  },
  {
   "cell_type": "code",
   "execution_count": 93,
   "id": "e175c480",
   "metadata": {},
   "outputs": [
    {
     "data": {
      "text/plain": [
       "[0, 1, 2, 3, 4, 5]"
      ]
     },
     "execution_count": 93,
     "metadata": {},
     "output_type": "execute_result"
    }
   ],
   "source": [
    "l1"
   ]
  }
 ],
 "metadata": {
  "kernelspec": {
   "display_name": "Python 3 (ipykernel)",
   "language": "python",
   "name": "python3"
  },
  "language_info": {
   "codemirror_mode": {
    "name": "ipython",
    "version": 3
   },
   "file_extension": ".py",
   "mimetype": "text/x-python",
   "name": "python",
   "nbconvert_exporter": "python",
   "pygments_lexer": "ipython3",
   "version": "3.9.7"
  }
 },
 "nbformat": 4,
 "nbformat_minor": 5
}
