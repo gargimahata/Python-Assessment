{
 "cells": [
  {
   "cell_type": "code",
   "execution_count": 1,
   "id": "5ec43038",
   "metadata": {},
   "outputs": [],
   "source": [
    "# 1. In the below elements which of them are values or an expression? eg:- values can be integer or string and expressions will be mathematical operators.\n",
    "\n",
    "# * = Multiplication operator\n",
    "# 'hello' = String\n",
    "# -87.8 = Floating point number\n",
    "# - = Subtraction operator\n",
    "# / = Division operator\n",
    "# + = Addition operator\n",
    "# 6 = Integer\n"
   ]
  },
  {
   "cell_type": "code",
   "execution_count": 2,
   "id": "281fe9ae",
   "metadata": {},
   "outputs": [],
   "source": [
    "# 2. What is the difference between string and variable?\n",
    "\n",
    "# A Variable is where the information/ data type is stored.\n",
    "# String is a data type that can be stored in Variable."
   ]
  },
  {
   "cell_type": "code",
   "execution_count": 3,
   "id": "2528658a",
   "metadata": {},
   "outputs": [],
   "source": [
    "# 3. Describe three different data types.\n",
    "\n",
    "# Integer- An Integer is a real, whole number, positive or negative, without decimals, of unlimited length.\n",
    "# Float- A Float in a real, decimal number in python.\n",
    "# String- String is used to store textual data in Python."
   ]
  },
  {
   "cell_type": "code",
   "execution_count": 4,
   "id": "074ff107",
   "metadata": {},
   "outputs": [],
   "source": [
    "# 4. What is an expression made up of? What do all expressions do?\n",
    "\n",
    "# An expression is a combination of operators and operands that is interpreted to produce some other value. \n",
    "# In any programming language, an expression is evaluated as per the precedence of its operators.\n"
   ]
  },
  {
   "cell_type": "code",
   "execution_count": 5,
   "id": "60871560",
   "metadata": {},
   "outputs": [],
   "source": [
    "# 5. This assignment statements, like spam = 10. What is the difference between an expression and a statement?\n",
    "\n",
    "# An Expression is a sequence or combination of values, variables, operators and function calls that always produces or returns a value.\n",
    "# A Statement is any Instruction that a python interpreter can execute.\n"
   ]
  },
  {
   "cell_type": "code",
   "execution_count": 6,
   "id": "a00f66f0",
   "metadata": {},
   "outputs": [],
   "source": [
    "# 6. After running the following code, what does the variable bacon contain?\n",
    "# bacon = 22\n",
    "# bacon + 1\n",
    "\n",
    "# bacon = 22"
   ]
  },
  {
   "cell_type": "code",
   "execution_count": 7,
   "id": "aa770e53",
   "metadata": {},
   "outputs": [],
   "source": [
    "#7. What should the values of the following two terms be?\n",
    "#'spam' + 'spamspam'\n",
    "\n",
    "# 'spamspamspam'\n",
    "\n",
    "#'spam' * 3\n",
    "\n",
    "# 'spamspamspam'"
   ]
  },
  {
   "cell_type": "code",
   "execution_count": 8,
   "id": "33ddd4a9",
   "metadata": {},
   "outputs": [],
   "source": [
    "# 8. Why is eggs a valid variable name while 100 is invalid?\n",
    "\n",
    "# 100 is invalid name cause a variable name cannot start with a number."
   ]
  },
  {
   "cell_type": "code",
   "execution_count": 9,
   "id": "5fbdf3d0",
   "metadata": {},
   "outputs": [],
   "source": [
    "# 9. What three functions can be used to get the integer, floating-point number, or string version of a value?\n",
    "\n",
    "# int(), float(), str()"
   ]
  },
  {
   "cell_type": "code",
   "execution_count": 10,
   "id": "c326d1f6",
   "metadata": {},
   "outputs": [],
   "source": [
    "# 10. Why does this expression cause an error? How can you fix it?\n",
    "# 'I have eaten' + 99 + 'burritos'\n",
    "\n",
    "# Addition operator adds same kind of datatypes. Here 99 is a integer but 'I have eaten' & 'burritos' are string. So, the addition operator will not work.\n",
    "\n",
    "# By writing 'I have eaten' + '99' + 'burritos' error can be fixed."
   ]
  }
 ],
 "metadata": {
  "kernelspec": {
   "display_name": "Python 3 (ipykernel)",
   "language": "python",
   "name": "python3"
  },
  "language_info": {
   "codemirror_mode": {
    "name": "ipython",
    "version": 3
   },
   "file_extension": ".py",
   "mimetype": "text/x-python",
   "name": "python",
   "nbconvert_exporter": "python",
   "pygments_lexer": "ipython3",
   "version": "3.9.7"
  }
 },
 "nbformat": 4,
 "nbformat_minor": 5
}
