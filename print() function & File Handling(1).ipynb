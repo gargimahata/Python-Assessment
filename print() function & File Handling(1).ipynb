{
 "cells": [
  {
   "cell_type": "code",
   "execution_count": 1,
   "id": "74b5bf7a",
   "metadata": {},
   "outputs": [
    {
     "name": "stdout",
     "output_type": "stream",
     "text": [
      "Welcome\n"
     ]
    }
   ],
   "source": [
    "# Output using print() function\n",
    "\n",
    "print(\"Welcome\")"
   ]
  },
  {
   "cell_type": "code",
   "execution_count": 26,
   "id": "558a2a6d",
   "metadata": {},
   "outputs": [
    {
     "name": "stdout",
     "output_type": "stream",
     "text": [
      "Welcome\n",
      "here\n"
     ]
    }
   ],
   "source": [
    "print(\"Welcome\") \n",
    "print(\"here\")"
   ]
  },
  {
   "cell_type": "code",
   "execution_count": 2,
   "id": "080de26d",
   "metadata": {},
   "outputs": [
    {
     "name": "stdout",
     "output_type": "stream",
     "text": [
      "Welcome here\n"
     ]
    }
   ],
   "source": [
    "#Python end parameter in print()\n",
    "\n",
    "print(\"Welcome\", end=\" \") \n",
    "print(\"here\")"
   ]
  },
  {
   "cell_type": "code",
   "execution_count": 3,
   "id": "d1cc5289",
   "metadata": {},
   "outputs": [
    {
     "name": "stdout",
     "output_type": "stream",
     "text": [
      "1 2 3 4 5 6\n"
     ]
    }
   ],
   "source": [
    "l=[1,2,3,4,5,6]\n",
    "print(*l)"
   ]
  },
  {
   "cell_type": "code",
   "execution_count": 4,
   "id": "0087f841",
   "metadata": {},
   "outputs": [
    {
     "name": "stdout",
     "output_type": "stream",
     "text": [
      "[1, 2, 3, 4, 5, 6]\n"
     ]
    }
   ],
   "source": [
    "l=[1,2,3,4,5,6]\n",
    "print(l)"
   ]
  },
  {
   "cell_type": "code",
   "execution_count": 5,
   "id": "5591145c",
   "metadata": {},
   "outputs": [
    {
     "name": "stdout",
     "output_type": "stream",
     "text": [
      "gargimahata25\n"
     ]
    }
   ],
   "source": [
    "#sep parameter in print()\n",
    "print('gargi','mahata','25', sep='')"
   ]
  },
  {
   "cell_type": "code",
   "execution_count": 6,
   "id": "8af2b716",
   "metadata": {},
   "outputs": [
    {
     "name": "stdout",
     "output_type": "stream",
     "text": [
      "gargimahata25@gmail.com\n"
     ]
    }
   ],
   "source": [
    "#sep & end parameter in print()\n",
    "\n",
    "print('gargi','mahata','25', sep='',end=\"@\")\n",
    "print('gmail.com')"
   ]
  },
  {
   "cell_type": "markdown",
   "id": "30a0f70a",
   "metadata": {},
   "source": [
    "# Print vs. return in Python"
   ]
  },
  {
   "cell_type": "markdown",
   "id": "c9f53ba3",
   "metadata": {},
   "source": [
    "Printing and returning are completely different concepts.\n",
    "\n",
    "print is a function you call. Calling print will immediately make your program write out text for you to see. Use print when you want to show a value to a human.\n",
    "\n",
    "return is a keyword. When a return statement is reached, Python will stop the execution of the current function, sending a value out to where the function was called. Use return when you want to send a value from one point in your code to another.\n",
    "\n",
    "Using return changes the flow of the program. Using print does not."
   ]
  },
  {
   "cell_type": "markdown",
   "id": "21a3ba89",
   "metadata": {},
   "source": [
    "# File Handling"
   ]
  },
  {
   "cell_type": "markdown",
   "id": "4e058d8f",
   "metadata": {},
   "source": [
    "Python has several functions for creating, reading, updating, and deleting files.\n",
    "\n",
    "The key function for working with files in Python is the open() function.\n",
    "\n",
    "The open() function takes two parameters; filename, and mode.\n",
    "\n",
    "There are four different methods (modes) for opening a file:\n",
    "\n",
    "    \"r\" - Read - Default value. Opens a file for reading, error if the file does not exist\n",
    "\n",
    "\n",
    "    \"a\" - Append - Opens a file for appending, creates the file if it does not exist\n",
    "\n",
    "\n",
    "    \"w\" - Write - Opens a file for writing, creates the file if it does not exist\n",
    "\n",
    "\n",
    "    \"x\" - Create - Creates the specified file, returns an error if the file exists\n",
    "\n",
    "if the file should be handled as binary or text mode can be specified with:\n",
    "    \n",
    "    \"t\" - Text - Default value. Text mode\n",
    "    \n",
    "    \"b\" - Binary - Binary mode (e.g. images)\n"
   ]
  },
  {
   "cell_type": "code",
   "execution_count": 7,
   "id": "5b250238",
   "metadata": {},
   "outputs": [
    {
     "name": "stdout",
     "output_type": "stream",
     "text": [
      "There once was a ship that put to sea\n",
      "The name of the ship was the Billy of Tea\n",
      "The winds blew up, her bow dipped down\n",
      "Oh blow, my bully boys, blow (huh)\n",
      "More content!\n",
      "More content!\n"
     ]
    }
   ],
   "source": [
    "f = open(\"demo1.txt\")\n",
    "print(f.read())\n",
    "#or f = open(\"demofile.txt\",\"rt\"), this is not working."
   ]
  },
  {
   "cell_type": "code",
   "execution_count": 8,
   "id": "1eef50ac",
   "metadata": {},
   "outputs": [
    {
     "name": "stdout",
     "output_type": "stream",
     "text": [
      "Woops! I have deleted the content!\n"
     ]
    }
   ],
   "source": [
    "g = open(\"/Users/fugu/Desktop/demo.txt\",'r')\n",
    "print(g.read())"
   ]
  },
  {
   "cell_type": "code",
   "execution_count": 9,
   "id": "333209c2",
   "metadata": {},
   "outputs": [
    {
     "name": "stdout",
     "output_type": "stream",
     "text": [
      "Woops!\n"
     ]
    }
   ],
   "source": [
    "# Read Only Parts of the File\n",
    "g = open(\"/Users/fugu/Desktop/demo.txt\",'r')\n",
    "print(g.read(6))"
   ]
  },
  {
   "cell_type": "code",
   "execution_count": 10,
   "id": "123187ce",
   "metadata": {},
   "outputs": [
    {
     "name": "stdout",
     "output_type": "stream",
     "text": [
      "Woops! I have deleted the content!\n",
      "\n"
     ]
    }
   ],
   "source": [
    "# Read lines of the File\n",
    "g = open(\"/Users/fugu/Desktop/demo.txt\",'r')\n",
    "print(g.readline())\n",
    "print(g.readline())"
   ]
  },
  {
   "cell_type": "code",
   "execution_count": 11,
   "id": "0f517a87",
   "metadata": {},
   "outputs": [
    {
     "name": "stdout",
     "output_type": "stream",
     "text": [
      "[]\n"
     ]
    }
   ],
   "source": [
    "print(g.readlines())\n",
    "\n",
    "#need to know reason"
   ]
  },
  {
   "cell_type": "code",
   "execution_count": 12,
   "id": "583eb238",
   "metadata": {},
   "outputs": [
    {
     "name": "stdout",
     "output_type": "stream",
     "text": [
      "['Woops! I have deleted the content!']\n"
     ]
    }
   ],
   "source": [
    "# Read lines of the File\n",
    "g = open(\"/Users/fugu/Desktop/demo.txt\",'r')\n",
    "print(g.readlines())"
   ]
  },
  {
   "cell_type": "code",
   "execution_count": 13,
   "id": "fea208ac",
   "metadata": {},
   "outputs": [
    {
     "name": "stdout",
     "output_type": "stream",
     "text": [
      "There once was a ship that put to sea\n",
      "\n",
      "The name of the ship was the Billy of Tea\n",
      "\n",
      "The winds blew up, her bow dipped down\n",
      "\n",
      "Oh blow, my bully boys, blow (huh)\n",
      "\n",
      "More content!\n",
      "\n",
      "More content!\n"
     ]
    }
   ],
   "source": [
    "#By looping through the lines of the file, you can read the whole file, line by line:\n",
    "\n",
    "f = open(\"demo1.txt\", \"r\")\n",
    "for x in f:\n",
    "    print(x)"
   ]
  },
  {
   "cell_type": "code",
   "execution_count": 14,
   "id": "70001677",
   "metadata": {},
   "outputs": [
    {
     "name": "stdout",
     "output_type": "stream",
     "text": [
      "['There once was a ship that put to sea\\n', 'The name of the ship was the Billy of Tea\\n', 'The winds blew up, her bow dipped down\\n', 'Oh blow, my bully boys, blow (huh)\\n', 'More content!\\n', 'More content!']\n"
     ]
    }
   ],
   "source": [
    "#Close Files\n",
    "\n",
    "f = open(\"demo1.txt\", \"r\")\n",
    "print(f.readlines())\n",
    "f.close() "
   ]
  },
  {
   "cell_type": "markdown",
   "id": "6999cfd9",
   "metadata": {},
   "source": [
    "# Python File Write"
   ]
  },
  {
   "cell_type": "markdown",
   "id": "78b8ff1e",
   "metadata": {},
   "source": [
    "To write to an existing file, you must add a parameter to the open() function:\n",
    "\n",
    "\"a\" - Append - will append to the end of the file\n",
    "\n",
    "\"w\" - Write - will overwrite any existing content\n"
   ]
  },
  {
   "cell_type": "code",
   "execution_count": 15,
   "id": "85f5c439",
   "metadata": {},
   "outputs": [
    {
     "name": "stdout",
     "output_type": "stream",
     "text": [
      "There once was a ship that put to sea\n",
      "The name of the ship was the Billy of Tea\n",
      "The winds blew up, her bow dipped down\n",
      "Oh blow, my bully boys, blow (huh)\n",
      "More content!\n",
      "More content!\n",
      "More content!\n"
     ]
    }
   ],
   "source": [
    "#Open the file \"demo1.txt\" and append content to the file:\n",
    "\n",
    "g = open(\"demo1.txt\",\"a\")\n",
    "g.write(\"\\nMore content!\")\n",
    "g.close()\n",
    "g = open(\"demo1.txt\",\"r\")\n",
    "print(g.read())\n",
    "g.close()"
   ]
  },
  {
   "cell_type": "code",
   "execution_count": 16,
   "id": "1dc0ec42",
   "metadata": {},
   "outputs": [
    {
     "name": "stdout",
     "output_type": "stream",
     "text": [
      "Woops! I have deleted the content!\n"
     ]
    }
   ],
   "source": [
    "#Open the file \"demo.txt\" and overwrite the content:\n",
    "\n",
    "a = open(\"/Users/fugu/Desktop/demo.txt\",\"w\")\n",
    "a.write(\"Woops! I have deleted the content!\")\n",
    "a.close()\n",
    "a = open(\"/Users/fugu/Desktop/demo.txt\")\n",
    "print(a.read())\n",
    "a.close()"
   ]
  },
  {
   "cell_type": "markdown",
   "id": "99dfeac2",
   "metadata": {},
   "source": [
    "# Create a New File"
   ]
  },
  {
   "cell_type": "markdown",
   "id": "0176431f",
   "metadata": {},
   "source": [
    "To create a new file in Python, use the open() method, with one of the following parameters:\n",
    "\n",
    "\"x\" - Create - will create a file, returns an error if the file exist\n",
    "\n",
    "\"a\" - Append - will create a file if the specified file does not exist\n",
    "\n",
    "\"w\" - Write - will create a file if the specified file does not exist"
   ]
  },
  {
   "cell_type": "code",
   "execution_count": 18,
   "id": "c8c811f3",
   "metadata": {},
   "outputs": [],
   "source": [
    "b = open(\"myfile.txt\", \"x\")"
   ]
  },
  {
   "cell_type": "code",
   "execution_count": 19,
   "id": "f6c4fb24",
   "metadata": {},
   "outputs": [
    {
     "name": "stdout",
     "output_type": "stream",
     "text": [
      "Out of content. \n",
      "I am sleepy.\n"
     ]
    }
   ],
   "source": [
    "b = open(\"myfile.txt\", \"w\")\n",
    "b.write(\"Out of content. \\nI am sleepy.\")\n",
    "b.close()\n",
    "b = open(\"myfile.txt\", \"r\")\n",
    "print(b.read())\n",
    "b.close()"
   ]
  },
  {
   "cell_type": "markdown",
   "id": "86390d14",
   "metadata": {},
   "source": [
    "# Delete a File"
   ]
  },
  {
   "cell_type": "code",
   "execution_count": 20,
   "id": "d68c41a6",
   "metadata": {},
   "outputs": [],
   "source": [
    "#To delete a file, you must import the OS module, and run its os.remove() function:\n",
    "\n",
    "import os"
   ]
  },
  {
   "cell_type": "code",
   "execution_count": 21,
   "id": "336bbf73",
   "metadata": {},
   "outputs": [],
   "source": [
    "os.remove(\"myfile.txt\")"
   ]
  },
  {
   "cell_type": "code",
   "execution_count": 22,
   "id": "be6294e1",
   "metadata": {},
   "outputs": [
    {
     "name": "stdout",
     "output_type": "stream",
     "text": [
      "The file does not exist\n"
     ]
    }
   ],
   "source": [
    "#To avoid getting an error, you might want to check if the file exists before you try to delete it:\n",
    "\n",
    "#Check if file exists, then delete it:\n",
    "\n",
    "import os\n",
    "if os.path.exists(\"myfile.txt\"):\n",
    "    os.remove(\"myfile.txt\")\n",
    "else:\n",
    "    print(\"The file does not exist\") "
   ]
  },
  {
   "cell_type": "markdown",
   "id": "6f87db4c",
   "metadata": {},
   "source": [
    "# Delete Folder"
   ]
  },
  {
   "cell_type": "code",
   "execution_count": 23,
   "id": "cd54746f",
   "metadata": {},
   "outputs": [],
   "source": [
    "#To delete an entire folder, use the os.rmdir() method:\n",
    "\n",
    "os.rmdir(\"myfolder\")"
   ]
  },
  {
   "cell_type": "code",
   "execution_count": null,
   "id": "211af130",
   "metadata": {},
   "outputs": [],
   "source": []
  }
 ],
 "metadata": {
  "kernelspec": {
   "display_name": "Python 3 (ipykernel)",
   "language": "python",
   "name": "python3"
  },
  "language_info": {
   "codemirror_mode": {
    "name": "ipython",
    "version": 3
   },
   "file_extension": ".py",
   "mimetype": "text/x-python",
   "name": "python",
   "nbconvert_exporter": "python",
   "pygments_lexer": "ipython3",
   "version": "3.9.7"
  }
 },
 "nbformat": 4,
 "nbformat_minor": 5
}
