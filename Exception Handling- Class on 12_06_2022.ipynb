{
 "cells": [
  {
   "cell_type": "code",
   "execution_count": 4,
   "id": "72bd29d2",
   "metadata": {},
   "outputs": [
    {
     "name": "stdout",
     "output_type": "stream",
     "text": [
      "30\n"
     ]
    }
   ],
   "source": [
    "a = 10\n",
    "b = 20\n",
    "c = a+b\n",
    "print(c)  \n",
    "\n",
    "# Source code > Compiler > byte code/ macine code > interpreter"
   ]
  },
  {
   "cell_type": "code",
   "execution_count": 3,
   "id": "46fe4c3c",
   "metadata": {},
   "outputs": [
    {
     "ename": "SyntaxError",
     "evalue": "unexpected EOF while parsing (3665825568.py, line 5)",
     "output_type": "error",
     "traceback": [
      "\u001b[0;36m  File \u001b[0;32m\"/var/folders/gy/zdp2mszs7f10ps3hr6svw1k40000gn/T/ipykernel_10348/3665825568.py\"\u001b[0;36m, line \u001b[0;32m5\u001b[0m\n\u001b[0;31m    #Compile timr error.\u001b[0m\n\u001b[0m                          ^\u001b[0m\n\u001b[0;31mSyntaxError\u001b[0m\u001b[0;31m:\u001b[0m unexpected EOF while parsing\n"
     ]
    }
   ],
   "source": [
    "a = 10\n",
    "b = 20\n",
    "c = a+b\n",
    "print(c\n",
    "      \n",
    "#Compile time error.  \n",
    "      \n",
    "# Only SyntaxError is a compiler error."
   ]
  },
  {
   "cell_type": "code",
   "execution_count": 2,
   "id": "590e41b2",
   "metadata": {},
   "outputs": [
    {
     "ename": "TypeError",
     "evalue": "unsupported operand type(s) for +: 'int' and 'str'",
     "output_type": "error",
     "traceback": [
      "\u001b[0;31m---------------------------------------------------------------------------\u001b[0m",
      "\u001b[0;31mTypeError\u001b[0m                                 Traceback (most recent call last)",
      "\u001b[0;32m/var/folders/gy/zdp2mszs7f10ps3hr6svw1k40000gn/T/ipykernel_10348/3714475431.py\u001b[0m in \u001b[0;36m<module>\u001b[0;34m\u001b[0m\n\u001b[1;32m      1\u001b[0m \u001b[0ma\u001b[0m \u001b[0;34m=\u001b[0m \u001b[0;36m10\u001b[0m\u001b[0;34m\u001b[0m\u001b[0;34m\u001b[0m\u001b[0m\n\u001b[1;32m      2\u001b[0m \u001b[0mb\u001b[0m \u001b[0;34m=\u001b[0m \u001b[0;34m's'\u001b[0m\u001b[0;34m\u001b[0m\u001b[0;34m\u001b[0m\u001b[0m\n\u001b[0;32m----> 3\u001b[0;31m \u001b[0mc\u001b[0m \u001b[0;34m=\u001b[0m \u001b[0ma\u001b[0m\u001b[0;34m+\u001b[0m\u001b[0mb\u001b[0m\u001b[0;34m\u001b[0m\u001b[0;34m\u001b[0m\u001b[0m\n\u001b[0m\u001b[1;32m      4\u001b[0m \u001b[0mprint\u001b[0m\u001b[0;34m(\u001b[0m\u001b[0mc\u001b[0m\u001b[0;34m)\u001b[0m\u001b[0;34m\u001b[0m\u001b[0;34m\u001b[0m\u001b[0m\n",
      "\u001b[0;31mTypeError\u001b[0m: unsupported operand type(s) for +: 'int' and 'str'"
     ]
    }
   ],
   "source": [
    "a = 10\n",
    "b = 's'\n",
    "c = a+b\n",
    "print(c)\n",
    "\n",
    "#Exception error.\n",
    "\n",
    "#Handling Exception error is exception handling."
   ]
  },
  {
   "cell_type": "code",
   "execution_count": 7,
   "id": "dbfd5427",
   "metadata": {},
   "outputs": [
    {
     "name": "stdout",
     "output_type": "stream",
     "text": [
      "enter first number10\n",
      "enter second number0\n"
     ]
    },
    {
     "ename": "ZeroDivisionError",
     "evalue": "division by zero",
     "output_type": "error",
     "traceback": [
      "\u001b[0;31m---------------------------------------------------------------------------\u001b[0m",
      "\u001b[0;31mZeroDivisionError\u001b[0m                         Traceback (most recent call last)",
      "\u001b[0;32m/var/folders/gy/zdp2mszs7f10ps3hr6svw1k40000gn/T/ipykernel_10348/1892827906.py\u001b[0m in \u001b[0;36m<module>\u001b[0;34m\u001b[0m\n\u001b[1;32m      1\u001b[0m \u001b[0ma\u001b[0m \u001b[0;34m=\u001b[0m \u001b[0mint\u001b[0m\u001b[0;34m(\u001b[0m\u001b[0minput\u001b[0m \u001b[0;34m(\u001b[0m\u001b[0;34m\"enter first number\"\u001b[0m\u001b[0;34m)\u001b[0m\u001b[0;34m)\u001b[0m\u001b[0;34m\u001b[0m\u001b[0;34m\u001b[0m\u001b[0m\n\u001b[1;32m      2\u001b[0m \u001b[0mb\u001b[0m \u001b[0;34m=\u001b[0m \u001b[0mint\u001b[0m\u001b[0;34m(\u001b[0m\u001b[0minput\u001b[0m \u001b[0;34m(\u001b[0m\u001b[0;34m\"enter second number\"\u001b[0m\u001b[0;34m)\u001b[0m\u001b[0;34m)\u001b[0m\u001b[0;34m\u001b[0m\u001b[0;34m\u001b[0m\u001b[0m\n\u001b[0;32m----> 3\u001b[0;31m \u001b[0mc\u001b[0m \u001b[0;34m=\u001b[0m \u001b[0ma\u001b[0m\u001b[0;34m/\u001b[0m\u001b[0mb\u001b[0m\u001b[0;34m\u001b[0m\u001b[0;34m\u001b[0m\u001b[0m\n\u001b[0m\u001b[1;32m      4\u001b[0m \u001b[0mprint\u001b[0m \u001b[0;34m(\u001b[0m\u001b[0mc\u001b[0m\u001b[0;34m)\u001b[0m\u001b[0;34m\u001b[0m\u001b[0;34m\u001b[0m\u001b[0m\n",
      "\u001b[0;31mZeroDivisionError\u001b[0m: division by zero"
     ]
    }
   ],
   "source": [
    "a = int(input (\"enter first number\"))\n",
    "b = int(input (\"enter second number\"))\n",
    "c = a/b\n",
    "print (c)\n",
    "\n",
    "# Exception error -> ZeroDivisionError."
   ]
  },
  {
   "cell_type": "code",
   "execution_count": 10,
   "id": "0601dded",
   "metadata": {},
   "outputs": [
    {
     "name": "stdout",
     "output_type": "stream",
     "text": [
      "enter first number10\n",
      "enter second number0\n"
     ]
    },
    {
     "ename": "ZeroDivisionError",
     "evalue": "division by zero",
     "output_type": "error",
     "traceback": [
      "\u001b[0;31m---------------------------------------------------------------------------\u001b[0m",
      "\u001b[0;31mZeroDivisionError\u001b[0m                         Traceback (most recent call last)",
      "\u001b[0;32m/var/folders/gy/zdp2mszs7f10ps3hr6svw1k40000gn/T/ipykernel_10348/2734109343.py\u001b[0m in \u001b[0;36m<module>\u001b[0;34m\u001b[0m\n\u001b[1;32m      1\u001b[0m \u001b[0ma\u001b[0m \u001b[0;34m=\u001b[0m \u001b[0mint\u001b[0m\u001b[0;34m(\u001b[0m\u001b[0minput\u001b[0m \u001b[0;34m(\u001b[0m\u001b[0;34m\"enter first number\"\u001b[0m\u001b[0;34m)\u001b[0m\u001b[0;34m)\u001b[0m\u001b[0;34m\u001b[0m\u001b[0;34m\u001b[0m\u001b[0m\n\u001b[1;32m      2\u001b[0m \u001b[0mb\u001b[0m \u001b[0;34m=\u001b[0m \u001b[0mint\u001b[0m\u001b[0;34m(\u001b[0m\u001b[0minput\u001b[0m \u001b[0;34m(\u001b[0m\u001b[0;34m\"enter second number\"\u001b[0m\u001b[0;34m)\u001b[0m\u001b[0;34m)\u001b[0m\u001b[0;34m\u001b[0m\u001b[0;34m\u001b[0m\u001b[0m\n\u001b[0;32m----> 3\u001b[0;31m \u001b[0mc\u001b[0m \u001b[0;34m=\u001b[0m \u001b[0ma\u001b[0m\u001b[0;34m/\u001b[0m\u001b[0mb\u001b[0m\u001b[0;34m\u001b[0m\u001b[0;34m\u001b[0m\u001b[0m\n\u001b[0m\u001b[1;32m      4\u001b[0m \u001b[0mprint\u001b[0m \u001b[0;34m(\u001b[0m\u001b[0mc\u001b[0m\u001b[0;34m)\u001b[0m\u001b[0;34m\u001b[0m\u001b[0;34m\u001b[0m\u001b[0m\n\u001b[1;32m      5\u001b[0m \u001b[0md\u001b[0m \u001b[0;34m=\u001b[0m \u001b[0ma\u001b[0m\u001b[0;34m*\u001b[0m\u001b[0mb\u001b[0m\u001b[0;34m\u001b[0m\u001b[0;34m\u001b[0m\u001b[0m\n",
      "\u001b[0;31mZeroDivisionError\u001b[0m: division by zero"
     ]
    }
   ],
   "source": [
    "a = int(input (\"enter first number\"))\n",
    "b = int(input (\"enter second number\"))\n",
    "c = a/b\n",
    "print (c)\n",
    "d = a*b\n",
    "print (d)\n",
    "\n",
    "# Exception error -> ZeroDivisionError."
   ]
  },
  {
   "cell_type": "code",
   "execution_count": null,
   "id": "03430681",
   "metadata": {},
   "outputs": [],
   "source": [
    "#Keywords to be used in case of exception handling.\n",
    "\n",
    "try\n",
    "except\n",
    "else\n",
    "raise\n",
    "finally"
   ]
  },
  {
   "cell_type": "code",
   "execution_count": 12,
   "id": "e04c4fa6",
   "metadata": {},
   "outputs": [
    {
     "name": "stdout",
     "output_type": "stream",
     "text": [
      "enter first number10\n",
      "enter second number0\n",
      "b should not be a zero\n"
     ]
    }
   ],
   "source": [
    "a = int(input (\"enter first number\"))\n",
    "b = int(input (\"enter second number\"))\n",
    "try:\n",
    "    c = a/b\n",
    "    print (c)\n",
    "except:\n",
    "    print('b should not be a zero')"
   ]
  },
  {
   "cell_type": "code",
   "execution_count": 13,
   "id": "24cd3017",
   "metadata": {},
   "outputs": [
    {
     "name": "stdout",
     "output_type": "stream",
     "text": [
      "enter first number10\n",
      "enter second number0\n",
      "b should not be a zero\n"
     ]
    }
   ],
   "source": [
    "a = int(input (\"enter first number\"))\n",
    "b = int(input (\"enter second number\"))\n",
    "try:\n",
    "    c = a/b\n",
    "    print (c)\n",
    "except ZeroDivisionError:\n",
    "    print('b should not be a zero')"
   ]
  },
  {
   "cell_type": "code",
   "execution_count": 16,
   "id": "104bc6db",
   "metadata": {},
   "outputs": [
    {
     "ename": "SyntaxError",
     "evalue": "unmatched ')' (316197003.py, line 5)",
     "output_type": "error",
     "traceback": [
      "\u001b[0;36m  File \u001b[0;32m\"/var/folders/gy/zdp2mszs7f10ps3hr6svw1k40000gn/T/ipykernel_10348/316197003.py\"\u001b[0;36m, line \u001b[0;32m5\u001b[0m\n\u001b[0;31m    print (c))\u001b[0m\n\u001b[0m             ^\u001b[0m\n\u001b[0;31mSyntaxError\u001b[0m\u001b[0;31m:\u001b[0m unmatched ')'\n"
     ]
    }
   ],
   "source": [
    "a = int(input (\"enter first number\"))\n",
    "b = int(input (\"enter second number\"))\n",
    "try:\n",
    "    c = a/b\n",
    "    print (c))\n",
    "except:\n",
    "    print('wrong syntax')\n",
    "d = a+b\n",
    "print (d)\n",
    "\n",
    "#Compile time error"
   ]
  },
  {
   "cell_type": "code",
   "execution_count": 17,
   "id": "551b3f61",
   "metadata": {},
   "outputs": [
    {
     "name": "stdout",
     "output_type": "stream",
     "text": [
      "enter first number10\n",
      "enter second number0\n",
      "b should not be a zero\n",
      "10\n"
     ]
    }
   ],
   "source": [
    "a = int(input (\"enter first number\"))\n",
    "b = int(input (\"enter second number\"))\n",
    "try:\n",
    "    c = a/b\n",
    "    print (c)\n",
    "except:\n",
    "    print('b should not be a zero')\n",
    "d = a+b\n",
    "print (d)"
   ]
  },
  {
   "cell_type": "code",
   "execution_count": 22,
   "id": "4fd97777",
   "metadata": {},
   "outputs": [
    {
     "name": "stdout",
     "output_type": "stream",
     "text": [
      "Enter number1 10\n",
      "Enter number2 0\n",
      "Enter num2 value non zero\n",
      "Enter number1 0\n",
      "Enter number2 2\n",
      "The division of 0 and 2 is 0.0\n"
     ]
    }
   ],
   "source": [
    "#Write a program to ask the user to input 2 integers and calculate and print their division. Make sure your program behaves as follows:\n",
    "\n",
    "#If the user enters a non integer value then ask him to enter only integers\n",
    "#If denominator is 0 , then ask him to input non-zero denominator\n",
    "#Repeat the process until correct input is given\n",
    "\n",
    "#Only if the inputs are correct then display their division and terminate the code\n",
    "\n",
    "while True:\n",
    "    try:\n",
    "        num1=int(input(\"Enter number1 \"))\n",
    "        num2=int(input(\"Enter number2 \"))\n",
    "        num3=num1/num2\n",
    "        print(f\"The division of {num1} and {num2} is {num3}\")\n",
    "        break\n",
    "    except ValueError:\n",
    "        print(\"Enter only integer values\")\n",
    "        continue\n",
    "    except ZeroDivisionError:\n",
    "        print(\"Enter num2 value non zero\")\n",
    "        continue\n",
    "        "
   ]
  },
  {
   "cell_type": "code",
   "execution_count": 18,
   "id": "aef51bc4",
   "metadata": {},
   "outputs": [
    {
     "name": "stdout",
     "output_type": "stream",
     "text": [
      "enter first numberdf\n",
      "enter second number12\n"
     ]
    }
   ],
   "source": [
    "a = (input (\"enter first number\"))\n",
    "b = (input (\"enter second number\"))\n",
    "try:\n",
    "    if type(a) == type(b) == int:\n",
    "        c = a/b\n",
    "        print (c)\n",
    "except:\n",
    "    print('a and b should be int')"
   ]
  },
  {
   "cell_type": "code",
   "execution_count": 19,
   "id": "8b1f6ea7",
   "metadata": {},
   "outputs": [
    {
     "name": "stdout",
     "output_type": "stream",
     "text": [
      "Enter first number: 10\n",
      "Enter second number: 0\n",
      "b should not be a zero\n"
     ]
    }
   ],
   "source": [
    "a = int(input('Enter first number: '))\n",
    "b = int(input(\"Enter second number: \"))\n",
    "\n",
    "try:\n",
    "    c = a/b\n",
    "    print(c)\n",
    "    d=a+str(b)\n",
    "    print(d)\n",
    "except ZeroDivisionError:\n",
    "    print(\"b should not be a zero\")\n",
    "except ValueError:\n",
    "    print(\"please input number only.\")"
   ]
  },
  {
   "cell_type": "code",
   "execution_count": 20,
   "id": "fed0346c",
   "metadata": {},
   "outputs": [
    {
     "name": "stdout",
     "output_type": "stream",
     "text": [
      "Enter first number: 10\n",
      "Enter second number: 0\n",
      "b should not be a zero\n"
     ]
    }
   ],
   "source": [
    "a = int(input('Enter first number: '))\n",
    "b = int(input(\"Enter second number: \"))\n",
    "\n",
    "try:\n",
    "    c = a/b\n",
    "    print(c)\n",
    "    d=a+str(b)\n",
    "    print(d)\n",
    "except:\n",
    "    print(\"b should not be a zero\")"
   ]
  },
  {
   "cell_type": "code",
   "execution_count": 21,
   "id": "d8c2ac61",
   "metadata": {},
   "outputs": [
    {
     "name": "stdout",
     "output_type": "stream",
     "text": [
      "Enter first number: 10\n",
      "Enter second number: 0\n",
      "b should not be a zero or please input number only.\n"
     ]
    }
   ],
   "source": [
    "a = int(input('Enter first number: '))\n",
    "b = int(input(\"Enter second number: \"))\n",
    "\n",
    "try:\n",
    "    c = a/b\n",
    "    print(c)\n",
    "    d=a+str(b)\n",
    "    print(d)\n",
    "except (ZeroDivisionError, ValueError):\n",
    "    print(\"b should not be a zero or please input number only.\")"
   ]
  },
  {
   "cell_type": "code",
   "execution_count": 24,
   "id": "2596160f",
   "metadata": {},
   "outputs": [
    {
     "name": "stdout",
     "output_type": "stream",
     "text": [
      "Enter first number: 10\n",
      "Enter second number: 20\n",
      "0.5\n"
     ]
    },
    {
     "ename": "TypeError",
     "evalue": "unsupported operand type(s) for +: 'int' and 'str'",
     "output_type": "error",
     "traceback": [
      "\u001b[0;31m---------------------------------------------------------------------------\u001b[0m",
      "\u001b[0;31mTypeError\u001b[0m                                 Traceback (most recent call last)",
      "\u001b[0;32m/var/folders/gy/zdp2mszs7f10ps3hr6svw1k40000gn/T/ipykernel_10348/1194660857.py\u001b[0m in \u001b[0;36m<module>\u001b[0;34m\u001b[0m\n\u001b[1;32m      5\u001b[0m     \u001b[0mc\u001b[0m \u001b[0;34m=\u001b[0m \u001b[0ma\u001b[0m\u001b[0;34m/\u001b[0m\u001b[0mb\u001b[0m\u001b[0;34m\u001b[0m\u001b[0;34m\u001b[0m\u001b[0m\n\u001b[1;32m      6\u001b[0m     \u001b[0mprint\u001b[0m\u001b[0;34m(\u001b[0m\u001b[0mc\u001b[0m\u001b[0;34m)\u001b[0m\u001b[0;34m\u001b[0m\u001b[0;34m\u001b[0m\u001b[0m\n\u001b[0;32m----> 7\u001b[0;31m     \u001b[0md\u001b[0m\u001b[0;34m=\u001b[0m\u001b[0ma\u001b[0m\u001b[0;34m+\u001b[0m\u001b[0mstr\u001b[0m\u001b[0;34m(\u001b[0m\u001b[0mb\u001b[0m\u001b[0;34m)\u001b[0m\u001b[0;34m\u001b[0m\u001b[0;34m\u001b[0m\u001b[0m\n\u001b[0m\u001b[1;32m      8\u001b[0m     \u001b[0mprint\u001b[0m\u001b[0;34m(\u001b[0m\u001b[0md\u001b[0m\u001b[0;34m)\u001b[0m\u001b[0;34m\u001b[0m\u001b[0;34m\u001b[0m\u001b[0m\n\u001b[1;32m      9\u001b[0m \u001b[0;32mexcept\u001b[0m \u001b[0mZeroDivisionError\u001b[0m\u001b[0;34m:\u001b[0m\u001b[0;34m\u001b[0m\u001b[0;34m\u001b[0m\u001b[0m\n",
      "\u001b[0;31mTypeError\u001b[0m: unsupported operand type(s) for +: 'int' and 'str'"
     ]
    }
   ],
   "source": [
    "a = int(input('Enter first number: '))\n",
    "b = int(input(\"Enter second number: \"))\n",
    "\n",
    "try:\n",
    "    c = a/b\n",
    "    print(c)\n",
    "    d=a+str(b)\n",
    "    print(d)\n",
    "except ZeroDivisionError:\n",
    "    print(\"b should not be a zero\")\n",
    "except ValueError:\n",
    "    print(\"please input number only.\")"
   ]
  },
  {
   "cell_type": "code",
   "execution_count": 25,
   "id": "f6b1c109",
   "metadata": {},
   "outputs": [
    {
     "name": "stdout",
     "output_type": "stream",
     "text": [
      "Enter first number: 10\n",
      "Enter second number: 20\n",
      "0.5\n"
     ]
    },
    {
     "ename": "TypeError",
     "evalue": "unsupported operand type(s) for +: 'int' and 'str'",
     "output_type": "error",
     "traceback": [
      "\u001b[0;31m---------------------------------------------------------------------------\u001b[0m",
      "\u001b[0;31mTypeError\u001b[0m                                 Traceback (most recent call last)",
      "\u001b[0;32m/var/folders/gy/zdp2mszs7f10ps3hr6svw1k40000gn/T/ipykernel_10348/4085222848.py\u001b[0m in \u001b[0;36m<module>\u001b[0;34m\u001b[0m\n\u001b[1;32m      5\u001b[0m     \u001b[0mc\u001b[0m \u001b[0;34m=\u001b[0m \u001b[0ma\u001b[0m\u001b[0;34m/\u001b[0m\u001b[0mb\u001b[0m\u001b[0;34m\u001b[0m\u001b[0;34m\u001b[0m\u001b[0m\n\u001b[1;32m      6\u001b[0m     \u001b[0mprint\u001b[0m\u001b[0;34m(\u001b[0m\u001b[0mc\u001b[0m\u001b[0;34m)\u001b[0m\u001b[0;34m\u001b[0m\u001b[0;34m\u001b[0m\u001b[0m\n\u001b[0;32m----> 7\u001b[0;31m     \u001b[0md\u001b[0m\u001b[0;34m=\u001b[0m\u001b[0ma\u001b[0m\u001b[0;34m+\u001b[0m\u001b[0mstr\u001b[0m\u001b[0;34m(\u001b[0m\u001b[0mb\u001b[0m\u001b[0;34m)\u001b[0m\u001b[0;34m\u001b[0m\u001b[0;34m\u001b[0m\u001b[0m\n\u001b[0m\u001b[1;32m      8\u001b[0m     \u001b[0mprint\u001b[0m\u001b[0;34m(\u001b[0m\u001b[0md\u001b[0m\u001b[0;34m)\u001b[0m\u001b[0;34m\u001b[0m\u001b[0;34m\u001b[0m\u001b[0m\n\u001b[1;32m      9\u001b[0m \u001b[0;32mexcept\u001b[0m \u001b[0mValueError\u001b[0m\u001b[0;34m:\u001b[0m\u001b[0;34m\u001b[0m\u001b[0;34m\u001b[0m\u001b[0m\n",
      "\u001b[0;31mTypeError\u001b[0m: unsupported operand type(s) for +: 'int' and 'str'"
     ]
    }
   ],
   "source": [
    "a = int(input('Enter first number: '))\n",
    "b = int(input(\"Enter second number: \"))\n",
    "\n",
    "try:\n",
    "    c = a/b\n",
    "    print(c)\n",
    "    d=a+str(b)\n",
    "    print(d)\n",
    "except ValueError:\n",
    "    print(\"please input number only.\")"
   ]
  },
  {
   "cell_type": "code",
   "execution_count": 26,
   "id": "6b719e81",
   "metadata": {},
   "outputs": [
    {
     "name": "stdout",
     "output_type": "stream",
     "text": [
      "Enter first number: 10\n",
      "Enter second number: 20\n"
     ]
    },
    {
     "ename": "TypeError",
     "evalue": "unsupported operand type(s) for +: 'int' and 'str'",
     "output_type": "error",
     "traceback": [
      "\u001b[0;31m---------------------------------------------------------------------------\u001b[0m",
      "\u001b[0;31mTypeError\u001b[0m                                 Traceback (most recent call last)",
      "\u001b[0;32m/var/folders/gy/zdp2mszs7f10ps3hr6svw1k40000gn/T/ipykernel_10348/3362261970.py\u001b[0m in \u001b[0;36m<module>\u001b[0;34m\u001b[0m\n\u001b[1;32m      3\u001b[0m \u001b[0;34m\u001b[0m\u001b[0m\n\u001b[1;32m      4\u001b[0m \u001b[0;32mtry\u001b[0m\u001b[0;34m:\u001b[0m\u001b[0;34m\u001b[0m\u001b[0;34m\u001b[0m\u001b[0m\n\u001b[0;32m----> 5\u001b[0;31m     \u001b[0md\u001b[0m\u001b[0;34m=\u001b[0m\u001b[0ma\u001b[0m\u001b[0;34m+\u001b[0m\u001b[0mb\u001b[0m\u001b[0;34m\u001b[0m\u001b[0;34m\u001b[0m\u001b[0m\n\u001b[0m\u001b[1;32m      6\u001b[0m     \u001b[0mprint\u001b[0m\u001b[0;34m(\u001b[0m\u001b[0md\u001b[0m\u001b[0;34m)\u001b[0m\u001b[0;34m\u001b[0m\u001b[0;34m\u001b[0m\u001b[0m\n\u001b[1;32m      7\u001b[0m \u001b[0;32mexcept\u001b[0m \u001b[0mValueError\u001b[0m\u001b[0;34m:\u001b[0m\u001b[0;34m\u001b[0m\u001b[0;34m\u001b[0m\u001b[0m\n",
      "\u001b[0;31mTypeError\u001b[0m: unsupported operand type(s) for +: 'int' and 'str'"
     ]
    }
   ],
   "source": [
    "a = int(input('Enter first number: '))\n",
    "b = input(\"Enter second number: \")\n",
    "\n",
    "try:\n",
    "    d=a+b\n",
    "    print(d)\n",
    "except ValueError:\n",
    "    print(\"please input number only.\")"
   ]
  },
  {
   "cell_type": "code",
   "execution_count": 27,
   "id": "807da3eb",
   "metadata": {},
   "outputs": [
    {
     "name": "stdout",
     "output_type": "stream",
     "text": [
      "Enter first number: 10\n",
      "Enter second number: 20\n",
      "please input number only.\n"
     ]
    }
   ],
   "source": [
    "a = int(input('Enter first number: '))\n",
    "b = input(\"Enter second number: \")\n",
    "\n",
    "try:\n",
    "    d=a+b\n",
    "    print(d)\n",
    "except TypeError:\n",
    "    print(\"please input number only.\")"
   ]
  },
  {
   "cell_type": "markdown",
   "id": "7f050c19",
   "metadata": {},
   "source": [
    "Write a program to ask the user to input 2 integers and calculate and print their division. \n",
    "Make sure your program behaves as follows:\n",
    "\n",
    "     If the user enters a non integer value then ask him to enter only integers\n",
    "     If denominator is 0 , then ask him to input non-zero denominator\n",
    "     Repeat the process until correct input is given\n",
    "\n",
    "     Only if the inputs are correct then display their division and terminate the code\n",
    "\n",
    "a\n",
    "b\n",
    "a/b\n",
    "a='s'\n",
    "print(only int)\n",
    "b=0\n",
    "print(only non zero)"
   ]
  },
  {
   "cell_type": "code",
   "execution_count": 32,
   "id": "7b2e7ba7",
   "metadata": {},
   "outputs": [
    {
     "name": "stdout",
     "output_type": "stream",
     "text": [
      "Write your name: Maya\n",
      "Write your name: Dipa\n",
      "Write your name: Gargi\n",
      "Write your name: gargi\n",
      "gargi\n"
     ]
    }
   ],
   "source": [
    "while True:\n",
    "    name = input(\"Write your name: \")\n",
    "    if name == \"gargi\":\n",
    "        print('gargi')\n",
    "        break"
   ]
  },
  {
   "cell_type": "code",
   "execution_count": 33,
   "id": "0c3771a5",
   "metadata": {},
   "outputs": [
    {
     "name": "stdout",
     "output_type": "stream",
     "text": [
      "Enter the first number: 10\n",
      "Enter the second number: 0\n",
      "non zero denominator\n",
      "Enter the first number: 2\n",
      "Enter the second number: 6\n",
      "0.3333333333333333\n"
     ]
    }
   ],
   "source": [
    "while True:\n",
    "    a = int(input(\"Enter the first number: \"))\n",
    "    b = int(input(\"Enter the second number: \"))\n",
    "    try:\n",
    "        c=a/b\n",
    "        print(c)\n",
    "        break\n",
    "    except ZeroDivisionError:\n",
    "        print(\"non zero denominator\")\n",
    "    \n",
    "    except TypeError:\n",
    "        print(\"there should be no string\")"
   ]
  },
  {
   "cell_type": "code",
   "execution_count": 35,
   "id": "63888203",
   "metadata": {},
   "outputs": [
    {
     "name": "stdout",
     "output_type": "stream",
     "text": [
      "Enter the first number: 10\n",
      "Enter the second number: a\n"
     ]
    },
    {
     "ename": "ValueError",
     "evalue": "invalid literal for int() with base 10: 'a'",
     "output_type": "error",
     "traceback": [
      "\u001b[0;31m---------------------------------------------------------------------------\u001b[0m",
      "\u001b[0;31mValueError\u001b[0m                                Traceback (most recent call last)",
      "\u001b[0;32m/var/folders/gy/zdp2mszs7f10ps3hr6svw1k40000gn/T/ipykernel_10348/1812849391.py\u001b[0m in \u001b[0;36m<module>\u001b[0;34m\u001b[0m\n\u001b[1;32m      1\u001b[0m \u001b[0;32mwhile\u001b[0m \u001b[0;32mTrue\u001b[0m\u001b[0;34m:\u001b[0m\u001b[0;34m\u001b[0m\u001b[0;34m\u001b[0m\u001b[0m\n\u001b[1;32m      2\u001b[0m     \u001b[0ma\u001b[0m \u001b[0;34m=\u001b[0m \u001b[0mint\u001b[0m\u001b[0;34m(\u001b[0m\u001b[0minput\u001b[0m\u001b[0;34m(\u001b[0m\u001b[0;34m\"Enter the first number: \"\u001b[0m\u001b[0;34m)\u001b[0m\u001b[0;34m)\u001b[0m\u001b[0;34m\u001b[0m\u001b[0;34m\u001b[0m\u001b[0m\n\u001b[0;32m----> 3\u001b[0;31m     \u001b[0mb\u001b[0m \u001b[0;34m=\u001b[0m \u001b[0mint\u001b[0m\u001b[0;34m(\u001b[0m\u001b[0minput\u001b[0m\u001b[0;34m(\u001b[0m\u001b[0;34m\"Enter the second number: \"\u001b[0m\u001b[0;34m)\u001b[0m\u001b[0;34m)\u001b[0m\u001b[0;34m\u001b[0m\u001b[0;34m\u001b[0m\u001b[0m\n\u001b[0m\u001b[1;32m      4\u001b[0m     \u001b[0;32mtry\u001b[0m\u001b[0;34m:\u001b[0m\u001b[0;34m\u001b[0m\u001b[0;34m\u001b[0m\u001b[0m\n\u001b[1;32m      5\u001b[0m         \u001b[0mc\u001b[0m\u001b[0;34m=\u001b[0m\u001b[0ma\u001b[0m\u001b[0;34m/\u001b[0m\u001b[0mb\u001b[0m\u001b[0;34m\u001b[0m\u001b[0;34m\u001b[0m\u001b[0m\n",
      "\u001b[0;31mValueError\u001b[0m: invalid literal for int() with base 10: 'a'"
     ]
    }
   ],
   "source": [
    "while True:\n",
    "    a = int(input(\"Enter the first number: \"))\n",
    "    b = int(input(\"Enter the second number: \"))\n",
    "    try:\n",
    "        c=a/b\n",
    "        print(c)\n",
    "        break\n",
    "    except ValueError:\n",
    "        print(\"non zero denominator\")\n",
    "    \n",
    "    except ZeroDivisionError:\n",
    "        print(\"there should be no string\")"
   ]
  },
  {
   "cell_type": "code",
   "execution_count": 37,
   "id": "f09465e9",
   "metadata": {},
   "outputs": [
    {
     "name": "stdout",
     "output_type": "stream",
     "text": [
      "Enter the first number: 10\n",
      "Enter the second number: a\n",
      "there should be no string\n",
      "Enter the first number: 20\n",
      "Enter the second number: 10\n",
      "2.0\n"
     ]
    }
   ],
   "source": [
    "while True:\n",
    "    try:\n",
    "        a = int(input(\"Enter the first number: \"))\n",
    "        b = int(input(\"Enter the second number: \"))\n",
    "        c=a/b\n",
    "        print(c)\n",
    "        break\n",
    "    except ValueError:\n",
    "        print(\"there should be no string\")\n",
    "    \n",
    "    except ZeroDivisionError:\n",
    "        print(\"non zero denominator\")"
   ]
  },
  {
   "cell_type": "code",
   "execution_count": 38,
   "id": "fb7f5634",
   "metadata": {},
   "outputs": [
    {
     "name": "stdout",
     "output_type": "stream",
     "text": [
      "enter a string: 9.45\n",
      "only int allowed\n"
     ]
    }
   ],
   "source": [
    "try:\n",
    "    int(input(\"enter a string: \"))\n",
    "except:\n",
    "    print(\"only int allowed\")"
   ]
  },
  {
   "cell_type": "code",
   "execution_count": 40,
   "id": "f28a1b31",
   "metadata": {},
   "outputs": [
    {
     "name": "stdout",
     "output_type": "stream",
     "text": [
      "first number: 10\n",
      "second number: 0\n",
      "b should not be zero\n",
      "first number: 20\n",
      "second number: 10\n",
      "div: 2.0\n"
     ]
    }
   ],
   "source": [
    "while True:\n",
    "    try:\n",
    "        a=int(input(\"first number: \"))\n",
    "        b=int(input(\"second number: \"))\n",
    "        c=a/b\n",
    "        print(\"div:\", c)\n",
    "        break\n",
    "    except:\n",
    "        print(\"b should not be zero\")"
   ]
  },
  {
   "cell_type": "code",
   "execution_count": 41,
   "id": "f6272d18",
   "metadata": {},
   "outputs": [
    {
     "name": "stdout",
     "output_type": "stream",
     "text": [
      "first number: 10\n",
      "second number: 0\n",
      "division by zero\n",
      "first number: 20\n",
      "second number: 10\n",
      "div: 2.0\n"
     ]
    }
   ],
   "source": [
    "while True:\n",
    "    try:\n",
    "        a=int(input(\"first number: \"))\n",
    "        b=int(input(\"second number: \"))\n",
    "        c=a/b\n",
    "        print(\"div:\", c)\n",
    "        break\n",
    "    except ZeroDivisionError as e:\n",
    "        print(e)"
   ]
  },
  {
   "cell_type": "markdown",
   "id": "76f9ae68",
   "metadata": {},
   "source": [
    "# module: sys\n",
    "    inside sys we are using sys.exc.info() method"
   ]
  },
  {
   "cell_type": "code",
   "execution_count": 43,
   "id": "e7cfc23e",
   "metadata": {},
   "outputs": [
    {
     "name": "stdout",
     "output_type": "stream",
     "text": [
      "first number: 10\n",
      "second number: 0\n",
      "(<class 'ZeroDivisionError'>, ZeroDivisionError('division by zero'), <traceback object at 0x7fc71e83ecc0>)\n",
      "first number: 100\n",
      "second number: 4\n",
      "div: 25.0\n"
     ]
    }
   ],
   "source": [
    "import sys\n",
    "while True:\n",
    "    try:\n",
    "        a=int(input(\"first number: \"))\n",
    "        b=int(input(\"second number: \"))\n",
    "        c=a/b\n",
    "        print(\"div:\", c)\n",
    "        break\n",
    "    except:\n",
    "        print(sys.exc_info())"
   ]
  },
  {
   "cell_type": "markdown",
   "id": "54f5b5c8",
   "metadata": {},
   "source": [
    "module: .py file in Python. \n",
    "\n",
    ".py: Python file\n",
    "format: abc.py\n",
    "sys is a .py file.\n",
    "\n",
    "2 types of modules are there:\n",
    "    1. Built in module. \n",
    "          sys is built in module\n",
    "    2.Custom module"
   ]
  },
  {
   "cell_type": "code",
   "execution_count": 47,
   "id": "3d797b80",
   "metadata": {},
   "outputs": [
    {
     "name": "stdout",
     "output_type": "stream",
     "text": [
      "first number: 10\n",
      "second number: 0\n",
      "exception class:  <class 'ZeroDivisionError'>\n",
      "exception message:  division by zero\n",
      "line number:  <traceback object at 0x7fc71e84b480>\n",
      "first number: 20\n",
      "second number: 10\n",
      "div: 2.0\n"
     ]
    }
   ],
   "source": [
    "import sys\n",
    "while True:\n",
    "    try:\n",
    "        a=int(input(\"first number: \"))\n",
    "        b=int(input(\"second number: \"))\n",
    "        c=a/b\n",
    "        print(\"div:\", c)\n",
    "        break\n",
    "    except:\n",
    "        a,b,c=sys.exc_info()\n",
    "        print(\"exception class: \",a)\n",
    "        print(\"exception message: \",b)\n",
    "        print(\"line number: \",c)"
   ]
  },
  {
   "cell_type": "code",
   "execution_count": 51,
   "id": "7ca6efb1",
   "metadata": {},
   "outputs": [
    {
     "name": "stdout",
     "output_type": "stream",
     "text": [
      "first number: 10\n",
      "second number: 0\n",
      "exception class:  <class 'ZeroDivisionError'>\n",
      "exception message:  division by zero\n",
      "line number:  6\n",
      "first number: 30\n",
      "second number: 7\n",
      "div: 4.285714285714286\n"
     ]
    }
   ],
   "source": [
    "import sys\n",
    "while True:\n",
    "    try:\n",
    "        a=int(input(\"first number: \"))\n",
    "        b=int(input(\"second number: \"))\n",
    "        c=a/b\n",
    "        print(\"div:\", c)\n",
    "        break\n",
    "    except:\n",
    "        a,b,c=sys.exc_info()\n",
    "        print(\"exception class: \",a)\n",
    "        print(\"exception message: \",b)\n",
    "        print(\"line number: \", c.tb_lineno)"
   ]
  },
  {
   "cell_type": "code",
   "execution_count": 58,
   "id": "8783e194",
   "metadata": {},
   "outputs": [
    {
     "name": "stdout",
     "output_type": "stream",
     "text": [
      "first number: 10\n",
      "second number: 0\n",
      "Traceback (most recent call last):\n",
      "  File \"/var/folders/gy/zdp2mszs7f10ps3hr6svw1k40000gn/T/ipykernel_10348/3804352073.py\", line 6, in <module>\n",
      "    c=a/b\n",
      "ZeroDivisionError: division by zero\n",
      "\n",
      "first number: 10\n",
      "second number: 3\n",
      "div: 3.3333333333333335\n"
     ]
    }
   ],
   "source": [
    "import traceback\n",
    "while True:\n",
    "    try:\n",
    "        a=int(input(\"first number: \"))\n",
    "        b=int(input(\"second number: \"))\n",
    "        c=a/b\n",
    "        print(\"div:\", c)\n",
    "        break\n",
    "    except:\n",
    "        print(traceback.format_exc())"
   ]
  },
  {
   "cell_type": "markdown",
   "id": "193a1aa7",
   "metadata": {},
   "source": [
    "# raise exception"
   ]
  },
  {
   "cell_type": "code",
   "execution_count": 61,
   "id": "bd00e12a",
   "metadata": {},
   "outputs": [
    {
     "name": "stdout",
     "output_type": "stream",
     "text": [
      "first number: 10\n",
      "second number: 0\n"
     ]
    },
    {
     "ename": "ZeroDivisionError",
     "evalue": "division by zero",
     "output_type": "error",
     "traceback": [
      "\u001b[0;31m---------------------------------------------------------------------------\u001b[0m",
      "\u001b[0;31mZeroDivisionError\u001b[0m                         Traceback (most recent call last)",
      "\u001b[0;32m/var/folders/gy/zdp2mszs7f10ps3hr6svw1k40000gn/T/ipykernel_10348/2828560731.py\u001b[0m in \u001b[0;36m<module>\u001b[0;34m\u001b[0m\n\u001b[1;32m      1\u001b[0m \u001b[0ma\u001b[0m\u001b[0;34m=\u001b[0m\u001b[0mint\u001b[0m\u001b[0;34m(\u001b[0m\u001b[0minput\u001b[0m\u001b[0;34m(\u001b[0m\u001b[0;34m\"first number: \"\u001b[0m\u001b[0;34m)\u001b[0m\u001b[0;34m)\u001b[0m\u001b[0;34m\u001b[0m\u001b[0;34m\u001b[0m\u001b[0m\n\u001b[1;32m      2\u001b[0m \u001b[0mb\u001b[0m\u001b[0;34m=\u001b[0m\u001b[0mint\u001b[0m\u001b[0;34m(\u001b[0m\u001b[0minput\u001b[0m\u001b[0;34m(\u001b[0m\u001b[0;34m\"second number: \"\u001b[0m\u001b[0;34m)\u001b[0m\u001b[0;34m)\u001b[0m\u001b[0;34m\u001b[0m\u001b[0;34m\u001b[0m\u001b[0m\n\u001b[0;32m----> 3\u001b[0;31m \u001b[0ma\u001b[0m\u001b[0;34m/\u001b[0m\u001b[0mb\u001b[0m\u001b[0;34m\u001b[0m\u001b[0;34m\u001b[0m\u001b[0m\n\u001b[0m",
      "\u001b[0;31mZeroDivisionError\u001b[0m: division by zero"
     ]
    }
   ],
   "source": [
    "\n",
    "        a=int(input(\"first number: \"))\n",
    "        b=int(input(\"second number: \"))\n",
    "        a/b"
   ]
  },
  {
   "cell_type": "code",
   "execution_count": 66,
   "id": "652af40e",
   "metadata": {},
   "outputs": [
    {
     "name": "stdout",
     "output_type": "stream",
     "text": [
      "first number: 10\n",
      "second number: 0\n",
      "please enter non zero denominator.\n",
      "first number: 10\n",
      "second number: w\n",
      "please enter int only\n",
      "first number: 20\n",
      "second number: -20\n",
      "-ve number not allowed.\n",
      "first number: 20\n",
      "second number: 10\n",
      "div:  2.0\n"
     ]
    }
   ],
   "source": [
    "while True:\n",
    "    try:\n",
    "        a=int(input(\"first number: \"))\n",
    "        b=int(input(\"second number: \"))\n",
    "        if a<0 or b<0: \n",
    "            raise Exception(\"-ve number not allowed.\")\n",
    "        c=a/b\n",
    "        print(\"div: \", c)\n",
    "        break\n",
    "    except ValueError:\n",
    "        print(\"please enter int only\")\n",
    "    except ZeroDivisionError:\n",
    "        print(\"please enter non zero denominator.\")\n",
    "    except Exception as e:\n",
    "        print(e)\n",
    "        \n",
    "#Exception is a built in class."
   ]
  },
  {
   "cell_type": "markdown",
   "id": "f3b76a01",
   "metadata": {},
   "source": [
    "# custom exception"
   ]
  },
  {
   "cell_type": "code",
   "execution_count": 71,
   "id": "9535b45b",
   "metadata": {},
   "outputs": [
    {
     "name": "stdout",
     "output_type": "stream",
     "text": [
      "first number: 10\n",
      "second number: s\n",
      "please enter int only\n",
      "first number: 10\n",
      "second number: -20\n"
     ]
    },
    {
     "ename": "NameError",
     "evalue": "name 'NegativeNumberException' is not defined",
     "output_type": "error",
     "traceback": [
      "\u001b[0;31m---------------------------------------------------------------------------\u001b[0m",
      "\u001b[0;31mNameError\u001b[0m                                 Traceback (most recent call last)",
      "\u001b[0;32m/var/folders/gy/zdp2mszs7f10ps3hr6svw1k40000gn/T/ipykernel_10348/4289382499.py\u001b[0m in \u001b[0;36m<module>\u001b[0;34m\u001b[0m\n\u001b[1;32m      5\u001b[0m         \u001b[0;32mif\u001b[0m \u001b[0ma\u001b[0m\u001b[0;34m<\u001b[0m\u001b[0;36m0\u001b[0m \u001b[0;32mor\u001b[0m \u001b[0mb\u001b[0m\u001b[0;34m<\u001b[0m\u001b[0;36m0\u001b[0m\u001b[0;34m:\u001b[0m\u001b[0;34m\u001b[0m\u001b[0;34m\u001b[0m\u001b[0m\n\u001b[0;32m----> 6\u001b[0;31m             \u001b[0;32mraise\u001b[0m \u001b[0mNegativeNumberException\u001b[0m\u001b[0;34m(\u001b[0m\u001b[0;34m\"-ve number not allowed.\"\u001b[0m\u001b[0;34m)\u001b[0m\u001b[0;34m\u001b[0m\u001b[0;34m\u001b[0m\u001b[0m\n\u001b[0m\u001b[1;32m      7\u001b[0m         \u001b[0mc\u001b[0m\u001b[0;34m=\u001b[0m\u001b[0ma\u001b[0m\u001b[0;34m/\u001b[0m\u001b[0mb\u001b[0m\u001b[0;34m\u001b[0m\u001b[0;34m\u001b[0m\u001b[0m\n",
      "\u001b[0;31mNameError\u001b[0m: name 'NegativeNumberException' is not defined",
      "\nDuring handling of the above exception, another exception occurred:\n",
      "\u001b[0;31mNameError\u001b[0m                                 Traceback (most recent call last)",
      "\u001b[0;32m/var/folders/gy/zdp2mszs7f10ps3hr6svw1k40000gn/T/ipykernel_10348/4289382499.py\u001b[0m in \u001b[0;36m<module>\u001b[0;34m\u001b[0m\n\u001b[1;32m     12\u001b[0m     \u001b[0;32mexcept\u001b[0m \u001b[0mZeroDivisionError\u001b[0m\u001b[0;34m:\u001b[0m\u001b[0;34m\u001b[0m\u001b[0;34m\u001b[0m\u001b[0m\n\u001b[1;32m     13\u001b[0m         \u001b[0mprint\u001b[0m\u001b[0;34m(\u001b[0m\u001b[0;34m\"please enter non zero denominator.\"\u001b[0m\u001b[0;34m)\u001b[0m\u001b[0;34m\u001b[0m\u001b[0;34m\u001b[0m\u001b[0m\n\u001b[0;32m---> 14\u001b[0;31m     \u001b[0;32mexcept\u001b[0m \u001b[0mNegativeNumberException\u001b[0m \u001b[0;32mas\u001b[0m \u001b[0me\u001b[0m\u001b[0;34m:\u001b[0m\u001b[0;34m\u001b[0m\u001b[0;34m\u001b[0m\u001b[0m\n\u001b[0m\u001b[1;32m     15\u001b[0m         \u001b[0mprint\u001b[0m\u001b[0;34m(\u001b[0m\u001b[0me\u001b[0m\u001b[0;34m)\u001b[0m\u001b[0;34m\u001b[0m\u001b[0;34m\u001b[0m\u001b[0m\n",
      "\u001b[0;31mNameError\u001b[0m: name 'NegativeNumberException' is not defined"
     ]
    }
   ],
   "source": [
    "while True:\n",
    "    try:\n",
    "        a=int(input(\"first number: \"))\n",
    "        b=int(input(\"second number: \"))\n",
    "        if a<0 or b<0: \n",
    "            raise NegativeNumberException(\"-ve number not allowed.\")\n",
    "        c=a/b\n",
    "        print(\"div: \", c)\n",
    "        break\n",
    "    except ValueError:\n",
    "        print(\"please enter int only\")\n",
    "    except ZeroDivisionError:\n",
    "        print(\"please enter non zero denominator.\")\n",
    "    except NegativeNumberException as e:\n",
    "        print(e)"
   ]
  },
  {
   "cell_type": "raw",
   "id": "18aa7e28",
   "metadata": {},
   "source": [
    " getting a name error because NegativeNumberException class is not defined in .py"
   ]
  },
  {
   "cell_type": "raw",
   "id": "2d2e0aad",
   "metadata": {},
   "source": [
    "if NegativeNumberException is diffned in my code, it'll run"
   ]
  },
  {
   "cell_type": "code",
   "execution_count": 74,
   "id": "8f5a0cf2",
   "metadata": {},
   "outputs": [],
   "source": [
    "class NegativeNumberException(Exception):\n",
    "    pass"
   ]
  },
  {
   "cell_type": "code",
   "execution_count": 75,
   "id": "89bc3412",
   "metadata": {},
   "outputs": [
    {
     "name": "stdout",
     "output_type": "stream",
     "text": [
      "first number: 10\n",
      "second number: -10\n",
      "-ve number not allowed.\n",
      "first number: 20\n",
      "second number: 10\n",
      "div:  2.0\n"
     ]
    }
   ],
   "source": [
    "while True:\n",
    "    try:\n",
    "        a=int(input(\"first number: \"))\n",
    "        b=int(input(\"second number: \"))\n",
    "        if a<0 or b<0: \n",
    "            raise NegativeNumberException(\"-ve number not allowed.\")\n",
    "        c=a/b\n",
    "        print(\"div: \", c)\n",
    "        break\n",
    "    except ValueError:\n",
    "        print(\"please enter int only\")\n",
    "    except ZeroDivisionError:\n",
    "        print(\"please enter non zero denominator.\")\n",
    "    except NegativeNumberException as e:\n",
    "        print(e)"
   ]
  },
  {
   "cell_type": "markdown",
   "id": "0ed98de3",
   "metadata": {},
   "source": [
    "# final block"
   ]
  },
  {
   "cell_type": "code",
   "execution_count": 77,
   "id": "4afb7053",
   "metadata": {},
   "outputs": [
    {
     "name": "stdout",
     "output_type": "stream",
     "text": [
      "first number: 10\n",
      "second number: 0\n",
      "donot use zero as denominator\n",
      "hello\n",
      "Python\n"
     ]
    }
   ],
   "source": [
    "try:\n",
    "    a=int(input(\"first number: \"))\n",
    "    b=int(input(\"second number: \"))\n",
    "    c=a/b\n",
    "    print(c)\n",
    "except:\n",
    "    print(\"donot use zero as denominator\")\n",
    "print(\"hello\")\n",
    "print(\"Python\")"
   ]
  },
  {
   "cell_type": "code",
   "execution_count": 78,
   "id": "d3751a12",
   "metadata": {},
   "outputs": [
    {
     "name": "stdout",
     "output_type": "stream",
     "text": [
      "first number: 10\n",
      "second number: 0\n",
      "donot use zero as denominator\n",
      "hello\n",
      "Python\n"
     ]
    }
   ],
   "source": [
    "try:\n",
    "    a=int(input(\"first number: \"))\n",
    "    b=int(input(\"second number: \"))\n",
    "    c=a/b\n",
    "    print(c)\n",
    "except:\n",
    "    print(\"donot use zero as denominator\")\n",
    "finally:\n",
    "    print(\"hello\")\n",
    "    print(\"Python\")"
   ]
  },
  {
   "cell_type": "code",
   "execution_count": 79,
   "id": "1783ea27",
   "metadata": {},
   "outputs": [
    {
     "name": "stdout",
     "output_type": "stream",
     "text": [
      "first number: 10\n",
      "second number: 0\n",
      "donot use zero as denominator\n"
     ]
    }
   ],
   "source": [
    "try:\n",
    "    a=int(input(\"first number: \"))\n",
    "    b=int(input(\"second number: \"))\n",
    "    c=a/b\n",
    "    print(c)\n",
    "except:\n",
    "    print(\"donot use zero as denominator\")\n",
    "else:\n",
    "    print(\"Python rocks!\")"
   ]
  },
  {
   "cell_type": "code",
   "execution_count": 80,
   "id": "8f541063",
   "metadata": {},
   "outputs": [
    {
     "name": "stdout",
     "output_type": "stream",
     "text": [
      "first number: 10\n",
      "second number: 0\n",
      "donot use zero as denominator\n",
      "Python rocks!\n"
     ]
    }
   ],
   "source": [
    "try:\n",
    "    a=int(input(\"first number: \"))\n",
    "    b=int(input(\"second number: \"))\n",
    "    c=a/b\n",
    "    print(c)\n",
    "except:\n",
    "    print(\"donot use zero as denominator\")\n",
    "finally:\n",
    "    print(\"Python rocks!\")"
   ]
  },
  {
   "cell_type": "raw",
   "id": "9fd91365",
   "metadata": {},
   "source": [
    "string = \"database connection\"-->error\n",
    "this line in\n",
    "try block\n",
    "except\n",
    "\n",
    "\n",
    "close the connection of this database\n",
    "close in finally---sure"
   ]
  },
  {
   "cell_type": "code",
   "execution_count": null,
   "id": "e9efaab3",
   "metadata": {},
   "outputs": [],
   "source": []
  }
 ],
 "metadata": {
  "kernelspec": {
   "display_name": "Python 3 (ipykernel)",
   "language": "python",
   "name": "python3"
  },
  "language_info": {
   "codemirror_mode": {
    "name": "ipython",
    "version": 3
   },
   "file_extension": ".py",
   "mimetype": "text/x-python",
   "name": "python",
   "nbconvert_exporter": "python",
   "pygments_lexer": "ipython3",
   "version": "3.9.7"
  }
 },
 "nbformat": 4,
 "nbformat_minor": 5
}
