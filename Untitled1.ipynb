{
 "cells": [
  {
   "cell_type": "code",
   "execution_count": 2,
   "id": "9d6fb5e0",
   "metadata": {},
   "outputs": [],
   "source": [
    "s = \"this is My First Python programming class and i am learNING python string and its function\"\n"
   ]
  },
  {
   "cell_type": "code",
   "execution_count": 6,
   "id": "b5c7a328",
   "metadata": {},
   "outputs": [
    {
     "data": {
      "text/plain": [
       "'h   r tnrrmglsnimeNGyosi dtfco'"
      ]
     },
     "execution_count": 6,
     "metadata": {},
     "output_type": "execute_result"
    }
   ],
   "source": [
    "#1. Try to extract data from index one to index 300 with a jump of 3\n",
    "s[1:300:3]"
   ]
  },
  {
   "cell_type": "code",
   "execution_count": 7,
   "id": "cf9a6bd2",
   "metadata": {},
   "outputs": [
    {
     "data": {
      "text/plain": [
       "'noitcnuf sti dna gnirts nohtyp GNINrael ma i dna ssalc gnimmargorp nohtyP tsriF yM si siht'"
      ]
     },
     "execution_count": 7,
     "metadata": {},
     "output_type": "execute_result"
    }
   ],
   "source": [
    "#2. Try to reverse a string without using reverse function\n",
    "s[::-1]"
   ]
  },
  {
   "cell_type": "code",
   "execution_count": 8,
   "id": "bbc3da5b",
   "metadata": {},
   "outputs": [
    {
     "data": {
      "text/plain": [
       "['THIS',\n",
       " 'IS',\n",
       " 'MY',\n",
       " 'FIRST',\n",
       " 'PYTHON',\n",
       " 'PROGRAMMING',\n",
       " 'CLASS',\n",
       " 'AND',\n",
       " 'I',\n",
       " 'AM',\n",
       " 'LEARNING',\n",
       " 'PYTHON',\n",
       " 'STRING',\n",
       " 'AND',\n",
       " 'ITS',\n",
       " 'FUNCTION']"
      ]
     },
     "execution_count": 8,
     "metadata": {},
     "output_type": "execute_result"
    }
   ],
   "source": [
    "#3. Try to split a string after conversion of entire string in uppercase\n",
    "s.upper().split()"
   ]
  },
  {
   "cell_type": "code",
   "execution_count": 9,
   "id": "67ec3fd6",
   "metadata": {},
   "outputs": [
    {
     "data": {
      "text/plain": [
       "'this is my first python programming class and i am learning python string and its function'"
      ]
     },
     "execution_count": 9,
     "metadata": {},
     "output_type": "execute_result"
    }
   ],
   "source": [
    "#4. try to convert the whole string into lower case\n",
    "s.lower()"
   ]
  },
  {
   "cell_type": "code",
   "execution_count": 10,
   "id": "3ab23a08",
   "metadata": {},
   "outputs": [
    {
     "data": {
      "text/plain": [
       "'This is my first python programming class and i am learning python string and its function'"
      ]
     },
     "execution_count": 10,
     "metadata": {},
     "output_type": "execute_result"
    }
   ],
   "source": [
    "#5. Try to capitalize the whole string \n",
    "s.capitalize()"
   ]
  },
  {
   "cell_type": "code",
   "execution_count": 11,
   "id": "d9814833",
   "metadata": {},
   "outputs": [],
   "source": [
    "#6. Write a diference between isalnum() and isalpha()\n",
    "# isalnum()- Alphanumaric. Checks weather all the characters of the string are alphabet or number.\n",
    "# isalpha()- Alphabet. Checks weather all the characters of the string are alphabet."
   ]
  },
  {
   "cell_type": "code",
   "execution_count": 24,
   "id": "7ec40822",
   "metadata": {},
   "outputs": [],
   "source": [
    "#7. Try to give an example of expand tab\n",
    "u = \"abcd\\t456789\\tuhg\""
   ]
  },
  {
   "cell_type": "code",
   "execution_count": 25,
   "id": "bc44ce87",
   "metadata": {},
   "outputs": [
    {
     "data": {
      "text/plain": [
       "'abcd    456789  uhg'"
      ]
     },
     "execution_count": 25,
     "metadata": {},
     "output_type": "execute_result"
    }
   ],
   "source": [
    "u.expandtabs()"
   ]
  },
  {
   "cell_type": "code",
   "execution_count": 29,
   "id": "2d6f2c23",
   "metadata": {},
   "outputs": [
    {
     "data": {
      "text/plain": [
       "'Do Your Thing'"
      ]
     },
     "execution_count": 29,
     "metadata": {},
     "output_type": "execute_result"
    }
   ],
   "source": [
    "#8. Give an example of strip , lstrip and rstrip\n",
    "p = \" Do Your Thing \"\n",
    "p.strip()"
   ]
  },
  {
   "cell_type": "code",
   "execution_count": 30,
   "id": "9d161378",
   "metadata": {},
   "outputs": [
    {
     "data": {
      "text/plain": [
       "'Do Your Thing '"
      ]
     },
     "execution_count": 30,
     "metadata": {},
     "output_type": "execute_result"
    }
   ],
   "source": [
    "#lstrip\n",
    "p.lstrip()"
   ]
  },
  {
   "cell_type": "code",
   "execution_count": 31,
   "id": "03155eff",
   "metadata": {},
   "outputs": [
    {
     "data": {
      "text/plain": [
       "' Do Your Thing'"
      ]
     },
     "execution_count": 31,
     "metadata": {},
     "output_type": "execute_result"
    }
   ],
   "source": [
    "#rstrip\n",
    "p.rstrip()"
   ]
  },
  {
   "cell_type": "code",
   "execution_count": 43,
   "id": "20301707",
   "metadata": {},
   "outputs": [],
   "source": [
    "#9.  Replace a string charecter by another charecter by taking your own example\n",
    "G = \"Need to sleep every night\""
   ]
  },
  {
   "cell_type": "code",
   "execution_count": 44,
   "id": "e8eda87c",
   "metadata": {},
   "outputs": [
    {
     "data": {
      "text/plain": [
       "'Need to sleep 8hrs every night'"
      ]
     },
     "execution_count": 44,
     "metadata": {},
     "output_type": "execute_result"
    }
   ],
   "source": [
    "G.replace('every', '8hrs every')"
   ]
  },
  {
   "cell_type": "code",
   "execution_count": 38,
   "id": "7756f71e",
   "metadata": {},
   "outputs": [],
   "source": [
    "#10. Try  to give a definition of string center function with and example \n",
    "b = \"SLEEP\""
   ]
  },
  {
   "cell_type": "code",
   "execution_count": 39,
   "id": "e000afab",
   "metadata": {},
   "outputs": [
    {
     "data": {
      "text/plain": [
       "'zzzzzzzzzzzzSLEEPzzzzzzzzzzzzz'"
      ]
     },
     "execution_count": 39,
     "metadata": {},
     "output_type": "execute_result"
    }
   ],
   "source": [
    "b.center(30,'z')"
   ]
  },
  {
   "cell_type": "code",
   "execution_count": 16,
   "id": "01e93095",
   "metadata": {},
   "outputs": [],
   "source": [
    "#11. Write your own definition of compiler and interpretor without copy paste form internet in your own language\n",
    "\n",
    "#Compiler - Compiler is a program that converts the programming language's source code to machine code at a whole in one go.\n",
    "\n",
    "#Interpreter - Compiler is a program that converts the programming language's source code to machine code line by line.\n"
   ]
  },
  {
   "cell_type": "code",
   "execution_count": 17,
   "id": "30225619",
   "metadata": {},
   "outputs": [],
   "source": [
    "#12. Python is a interpreted or compiled language give a clear ans with your understanding\n",
    "\n",
    "#Python is called an interpreted language because it goes through an interpreter, that converts the programming language's source code to machine code line by line.\n"
   ]
  },
  {
   "cell_type": "code",
   "execution_count": null,
   "id": "5b849b20",
   "metadata": {},
   "outputs": [],
   "source": [
    "#13. Try to write a usecase of python with your understanding.\n",
    "\n",
    "# Data scientists use Python to extract, process and manipulate data by using various Python libraries (such as Pandas).\n"
   ]
  }
 ],
 "metadata": {
  "kernelspec": {
   "display_name": "Python 3 (ipykernel)",
   "language": "python",
   "name": "python3"
  },
  "language_info": {
   "codemirror_mode": {
    "name": "ipython",
    "version": 3
   },
   "file_extension": ".py",
   "mimetype": "text/x-python",
   "name": "python",
   "nbconvert_exporter": "python",
   "pygments_lexer": "ipython3",
   "version": "3.9.7"
  }
 },
 "nbformat": 4,
 "nbformat_minor": 5
}
