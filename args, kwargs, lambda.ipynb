{
 "cells": [
  {
   "cell_type": "code",
   "execution_count": 5,
   "id": "fe76662f",
   "metadata": {},
   "outputs": [],
   "source": [
    "def test(a,b):\n",
    "    '''this is my function for concatination or addition'''\n",
    "    return a+b"
   ]
  },
  {
   "cell_type": "code",
   "execution_count": 10,
   "id": "6010ca24",
   "metadata": {},
   "outputs": [
    {
     "data": {
      "text/plain": [
       "13"
      ]
     },
     "execution_count": 10,
     "metadata": {},
     "output_type": "execute_result"
    }
   ],
   "source": [
    "# test(shift+tab) to see docstring type. Need to declare docstring type while creating the function.\n",
    "\n",
    "test(6,7)"
   ]
  },
  {
   "cell_type": "code",
   "execution_count": 11,
   "id": "af2a82b2",
   "metadata": {},
   "outputs": [
    {
     "data": {
      "text/plain": [
       "13"
      ]
     },
     "execution_count": 11,
     "metadata": {},
     "output_type": "execute_result"
    }
   ],
   "source": [
    "test(5,8)"
   ]
  },
  {
   "cell_type": "code",
   "execution_count": 3,
   "id": "d04ffd11",
   "metadata": {},
   "outputs": [
    {
     "data": {
      "text/plain": [
       "'gargimahata'"
      ]
     },
     "execution_count": 3,
     "metadata": {},
     "output_type": "execute_result"
    }
   ],
   "source": [
    "test('gargi','mahata')"
   ]
  },
  {
   "cell_type": "code",
   "execution_count": 4,
   "id": "5cc45767",
   "metadata": {},
   "outputs": [
    {
     "data": {
      "text/plain": [
       "16"
      ]
     },
     "execution_count": 4,
     "metadata": {},
     "output_type": "execute_result"
    }
   ],
   "source": [
    "test(a=9,b=7)"
   ]
  },
  {
   "cell_type": "code",
   "execution_count": 8,
   "id": "622c84cb",
   "metadata": {},
   "outputs": [],
   "source": [
    "def test1(a,b,c,d,e) :\n",
    "    return a,b,c,d,e"
   ]
  },
  {
   "cell_type": "code",
   "execution_count": 9,
   "id": "e317fce0",
   "metadata": {},
   "outputs": [
    {
     "ename": "TypeError",
     "evalue": "test1() takes 5 positional arguments but 6 were given",
     "output_type": "error",
     "traceback": [
      "\u001b[0;31m---------------------------------------------------------------------------\u001b[0m",
      "\u001b[0;31mTypeError\u001b[0m                                 Traceback (most recent call last)",
      "\u001b[0;32m/var/folders/gy/zdp2mszs7f10ps3hr6svw1k40000gn/T/ipykernel_6249/628959203.py\u001b[0m in \u001b[0;36m<module>\u001b[0;34m\u001b[0m\n\u001b[0;32m----> 1\u001b[0;31m \u001b[0mtest1\u001b[0m\u001b[0;34m(\u001b[0m\u001b[0;36m3\u001b[0m\u001b[0;34m,\u001b[0m\u001b[0;36m4\u001b[0m\u001b[0;34m,\u001b[0m\u001b[0;36m5\u001b[0m\u001b[0;34m,\u001b[0m\u001b[0;36m6\u001b[0m\u001b[0;34m,\u001b[0m\u001b[0;36m7\u001b[0m\u001b[0;34m,\u001b[0m\u001b[0;36m7\u001b[0m\u001b[0;34m)\u001b[0m\u001b[0;34m\u001b[0m\u001b[0;34m\u001b[0m\u001b[0m\n\u001b[0m",
      "\u001b[0;31mTypeError\u001b[0m: test1() takes 5 positional arguments but 6 were given"
     ]
    }
   ],
   "source": [
    "test1(3,4,5,6,7,7)"
   ]
  },
  {
   "cell_type": "code",
   "execution_count": 12,
   "id": "3c38de7f",
   "metadata": {},
   "outputs": [],
   "source": [
    "# how to pass multiple parameters through the function.\n",
    "\n",
    "def test2(*a):\n",
    "    return(a)\n",
    "    "
   ]
  },
  {
   "cell_type": "code",
   "execution_count": 13,
   "id": "19b09fa5",
   "metadata": {},
   "outputs": [
    {
     "data": {
      "text/plain": [
       "(2, 4, 5, 6, 7, 8)"
      ]
     },
     "execution_count": 13,
     "metadata": {},
     "output_type": "execute_result"
    }
   ],
   "source": [
    "test2(2,4,5,6,7,8)"
   ]
  },
  {
   "cell_type": "code",
   "execution_count": 15,
   "id": "238e3966",
   "metadata": {},
   "outputs": [
    {
     "data": {
      "text/plain": [
       "(2, 3, 4, [4, 5, 67, 8])"
      ]
     },
     "execution_count": 15,
     "metadata": {},
     "output_type": "execute_result"
    }
   ],
   "source": [
    "test2(2,3,4,[4,5,67,8])"
   ]
  },
  {
   "cell_type": "code",
   "execution_count": 18,
   "id": "fc1b64f0",
   "metadata": {},
   "outputs": [],
   "source": [
    "def test4(*args):\n",
    "    return args\n",
    "\n",
    "# *args is not a specific function, it is a representation. Instead of this *gargi or *a can be used.)"
   ]
  },
  {
   "cell_type": "code",
   "execution_count": 19,
   "id": "a75107b5",
   "metadata": {},
   "outputs": [
    {
     "data": {
      "text/plain": [
       "(2, 4, 5, 6, 7, 8)"
      ]
     },
     "execution_count": 19,
     "metadata": {},
     "output_type": "execute_result"
    }
   ],
   "source": [
    "test4(2,4,5,6,7,8)"
   ]
  },
  {
   "cell_type": "code",
   "execution_count": 24,
   "id": "d4eb9d5b",
   "metadata": {},
   "outputs": [],
   "source": [
    "def test5(*a):\n",
    "    '''making a list'''\n",
    "    l = []\n",
    "    for i in a:\n",
    "        l.append(i)\n",
    "    return l"
   ]
  },
  {
   "cell_type": "code",
   "execution_count": 25,
   "id": "b17487b5",
   "metadata": {},
   "outputs": [
    {
     "data": {
      "text/plain": [
       "[2, 3, 4, 45, 5, [345, 56, 5, 6]]"
      ]
     },
     "execution_count": 25,
     "metadata": {},
     "output_type": "execute_result"
    }
   ],
   "source": [
    "test5(2,3,4,45,5,[345,56,5,6])"
   ]
  },
  {
   "cell_type": "code",
   "execution_count": 26,
   "id": "2ffe5d70",
   "metadata": {},
   "outputs": [],
   "source": [
    "def test6(a,b,c,d, *m):\n",
    "    '''try try'''\n",
    "    return a,b,c,d,m\n",
    "\n",
    "# inside *m it makes a tuple"
   ]
  },
  {
   "cell_type": "code",
   "execution_count": 27,
   "id": "399e5627",
   "metadata": {},
   "outputs": [
    {
     "data": {
      "text/plain": [
       "(3, 4, 5, 6, (6, 7, 7, 88, 8, 8))"
      ]
     },
     "execution_count": 27,
     "metadata": {},
     "output_type": "execute_result"
    }
   ],
   "source": [
    "test6(3,4,5,6,6,7,7,88,8,8)"
   ]
  },
  {
   "cell_type": "code",
   "execution_count": 28,
   "id": "27adfa75",
   "metadata": {},
   "outputs": [],
   "source": [
    "def test7(*m,a,b,c,d,e):\n",
    "    '''try try try'''\n",
    "    return m,a,b,c,d,e"
   ]
  },
  {
   "cell_type": "code",
   "execution_count": 29,
   "id": "6129ae85",
   "metadata": {},
   "outputs": [
    {
     "ename": "TypeError",
     "evalue": "test7() missing 5 required keyword-only arguments: 'a', 'b', 'c', 'd', and 'e'",
     "output_type": "error",
     "traceback": [
      "\u001b[0;31m---------------------------------------------------------------------------\u001b[0m",
      "\u001b[0;31mTypeError\u001b[0m                                 Traceback (most recent call last)",
      "\u001b[0;32m/var/folders/gy/zdp2mszs7f10ps3hr6svw1k40000gn/T/ipykernel_6249/1644458907.py\u001b[0m in \u001b[0;36m<module>\u001b[0;34m\u001b[0m\n\u001b[0;32m----> 1\u001b[0;31m \u001b[0mtest7\u001b[0m\u001b[0;34m(\u001b[0m\u001b[0;36m1\u001b[0m\u001b[0;34m,\u001b[0m\u001b[0;36m2\u001b[0m\u001b[0;34m,\u001b[0m\u001b[0;36m3\u001b[0m\u001b[0;34m,\u001b[0m\u001b[0;36m34\u001b[0m\u001b[0;34m,\u001b[0m\u001b[0;36m56\u001b[0m\u001b[0;34m,\u001b[0m\u001b[0;36m67\u001b[0m\u001b[0;34m,\u001b[0m\u001b[0;36m3\u001b[0m\u001b[0;34m,\u001b[0m\u001b[0;36m4\u001b[0m\u001b[0;34m,\u001b[0m\u001b[0;36m5\u001b[0m\u001b[0;34m)\u001b[0m\u001b[0;34m\u001b[0m\u001b[0;34m\u001b[0m\u001b[0m\n\u001b[0m",
      "\u001b[0;31mTypeError\u001b[0m: test7() missing 5 required keyword-only arguments: 'a', 'b', 'c', 'd', and 'e'"
     ]
    }
   ],
   "source": [
    "test7(1,2,3,34,56,67,3,4,5)"
   ]
  },
  {
   "cell_type": "code",
   "execution_count": 30,
   "id": "157130d4",
   "metadata": {},
   "outputs": [
    {
     "data": {
      "text/plain": [
       "((1, 2, 3), 34, 56, 67, 3, 4)"
      ]
     },
     "execution_count": 30,
     "metadata": {},
     "output_type": "execute_result"
    }
   ],
   "source": [
    "test7(1,2,3,a=34,b=56,c=67,d=3,e=4)"
   ]
  },
  {
   "cell_type": "code",
   "execution_count": 31,
   "id": "91558f5c",
   "metadata": {},
   "outputs": [
    {
     "ename": "SyntaxError",
     "evalue": "invalid syntax (1676700020.py, line 1)",
     "output_type": "error",
     "traceback": [
      "\u001b[0;36m  File \u001b[0;32m\"/var/folders/gy/zdp2mszs7f10ps3hr6svw1k40000gn/T/ipykernel_6249/1676700020.py\"\u001b[0;36m, line \u001b[0;32m1\u001b[0m\n\u001b[0;31m    def test7(*m,a,b,c,d,*e):\u001b[0m\n\u001b[0m                         ^\u001b[0m\n\u001b[0;31mSyntaxError\u001b[0m\u001b[0;31m:\u001b[0m invalid syntax\n"
     ]
    }
   ],
   "source": [
    "def test7(*m,a,b,c,d,*e):\n",
    "    '''try try try'''\n",
    "    return m,a,b,c,d,e\n",
    "\n",
    "# no need of creating 2 statics."
   ]
  },
  {
   "cell_type": "code",
   "execution_count": 32,
   "id": "df65e3ec",
   "metadata": {},
   "outputs": [],
   "source": [
    "def test8(**gargi):\n",
    "    return gargi\n",
    "\n",
    "# dictionary values can be passed. {key:value}"
   ]
  },
  {
   "cell_type": "code",
   "execution_count": 33,
   "id": "b5a48b9d",
   "metadata": {},
   "outputs": [
    {
     "ename": "TypeError",
     "evalue": "test8() takes 0 positional arguments but 4 were given",
     "output_type": "error",
     "traceback": [
      "\u001b[0;31m---------------------------------------------------------------------------\u001b[0m",
      "\u001b[0;31mTypeError\u001b[0m                                 Traceback (most recent call last)",
      "\u001b[0;32m/var/folders/gy/zdp2mszs7f10ps3hr6svw1k40000gn/T/ipykernel_6249/3844948467.py\u001b[0m in \u001b[0;36m<module>\u001b[0;34m\u001b[0m\n\u001b[0;32m----> 1\u001b[0;31m \u001b[0mtest8\u001b[0m\u001b[0;34m(\u001b[0m\u001b[0;36m4\u001b[0m\u001b[0;34m,\u001b[0m\u001b[0;36m5\u001b[0m\u001b[0;34m,\u001b[0m\u001b[0;36m6\u001b[0m\u001b[0;34m,\u001b[0m\u001b[0;36m6\u001b[0m\u001b[0;34m)\u001b[0m\u001b[0;34m\u001b[0m\u001b[0;34m\u001b[0m\u001b[0m\n\u001b[0m",
      "\u001b[0;31mTypeError\u001b[0m: test8() takes 0 positional arguments but 4 were given"
     ]
    }
   ],
   "source": [
    "test8(4,5,6,6)"
   ]
  },
  {
   "cell_type": "code",
   "execution_count": 34,
   "id": "d196ff87",
   "metadata": {},
   "outputs": [
    {
     "data": {
      "text/plain": [
       "{'a': 4, 'c': 5, 'd': 6, 'e': 6}"
      ]
     },
     "execution_count": 34,
     "metadata": {},
     "output_type": "execute_result"
    }
   ],
   "source": [
    "test8(a=4,c=5,d=6,e=6)"
   ]
  },
  {
   "cell_type": "code",
   "execution_count": 36,
   "id": "23cabf9b",
   "metadata": {},
   "outputs": [
    {
     "ename": "TypeError",
     "evalue": "test8() takes 0 positional arguments but 1 was given",
     "output_type": "error",
     "traceback": [
      "\u001b[0;31m---------------------------------------------------------------------------\u001b[0m",
      "\u001b[0;31mTypeError\u001b[0m                                 Traceback (most recent call last)",
      "\u001b[0;32m/var/folders/gy/zdp2mszs7f10ps3hr6svw1k40000gn/T/ipykernel_6249/3837942988.py\u001b[0m in \u001b[0;36m<module>\u001b[0;34m\u001b[0m\n\u001b[1;32m      1\u001b[0m \u001b[0md\u001b[0m \u001b[0;34m=\u001b[0m \u001b[0;34m{\u001b[0m\u001b[0;34m'a'\u001b[0m\u001b[0;34m:\u001b[0m \u001b[0;36m4\u001b[0m\u001b[0;34m,\u001b[0m \u001b[0;34m'c'\u001b[0m\u001b[0;34m:\u001b[0m \u001b[0;36m5\u001b[0m\u001b[0;34m,\u001b[0m \u001b[0;34m'd'\u001b[0m\u001b[0;34m:\u001b[0m \u001b[0;36m6\u001b[0m\u001b[0;34m,\u001b[0m \u001b[0;34m'e'\u001b[0m\u001b[0;34m:\u001b[0m \u001b[0;36m6\u001b[0m\u001b[0;34m}\u001b[0m\u001b[0;34m\u001b[0m\u001b[0;34m\u001b[0m\u001b[0m\n\u001b[0;32m----> 2\u001b[0;31m \u001b[0mtest8\u001b[0m\u001b[0;34m(\u001b[0m\u001b[0md\u001b[0m\u001b[0;34m)\u001b[0m\u001b[0;34m\u001b[0m\u001b[0;34m\u001b[0m\u001b[0m\n\u001b[0m",
      "\u001b[0;31mTypeError\u001b[0m: test8() takes 0 positional arguments but 1 was given"
     ]
    }
   ],
   "source": [
    "d = {'a': 4, 'c': 5, 'd': 6, 'e': 6}\n",
    "test8(d)"
   ]
  },
  {
   "cell_type": "code",
   "execution_count": 37,
   "id": "0c1fffe1",
   "metadata": {},
   "outputs": [],
   "source": [
    "def test9(*m, **s):\n",
    "    return(m,s)"
   ]
  },
  {
   "cell_type": "code",
   "execution_count": 38,
   "id": "850ab084",
   "metadata": {},
   "outputs": [
    {
     "data": {
      "text/plain": [
       "((345, 45, 56), {'b': 4, 'c': 6, 'd': 7, 'g': 9})"
      ]
     },
     "execution_count": 38,
     "metadata": {},
     "output_type": "execute_result"
    }
   ],
   "source": [
    "test9(345,45,56,b=4,c=6,d=7,g=9)"
   ]
  },
  {
   "cell_type": "code",
   "execution_count": 41,
   "id": "533105de",
   "metadata": {},
   "outputs": [],
   "source": [
    "def test10(*m):\n",
    "    n =0 \n",
    "    for i in m:\n",
    "        if type(i) == int:\n",
    "            n = n+i\n",
    "    return n"
   ]
  },
  {
   "cell_type": "code",
   "execution_count": 42,
   "id": "9ebfe7f0",
   "metadata": {},
   "outputs": [
    {
     "data": {
      "text/plain": [
       "31"
      ]
     },
     "execution_count": 42,
     "metadata": {},
     "output_type": "execute_result"
    }
   ],
   "source": [
    "test10(2,3,4,5,5,6,6)"
   ]
  },
  {
   "cell_type": "code",
   "execution_count": 43,
   "id": "a8f69cb6",
   "metadata": {},
   "outputs": [
    {
     "data": {
      "text/plain": [
       "11"
      ]
     },
     "execution_count": 43,
     "metadata": {},
     "output_type": "execute_result"
    }
   ],
   "source": [
    "test10(3,3,5)"
   ]
  },
  {
   "cell_type": "code",
   "execution_count": 44,
   "id": "95cd5938",
   "metadata": {},
   "outputs": [],
   "source": [
    "def test11(*m):\n",
    "    n=1\n",
    "    for i in m:\n",
    "        if type(i) == int:\n",
    "            n = n*i\n",
    "    return n"
   ]
  },
  {
   "cell_type": "code",
   "execution_count": 45,
   "id": "c4765d7a",
   "metadata": {},
   "outputs": [
    {
     "data": {
      "text/plain": [
       "3507840"
      ]
     },
     "execution_count": 45,
     "metadata": {},
     "output_type": "execute_result"
    }
   ],
   "source": [
    "test11(4,5,6,7,6,87,8)"
   ]
  },
  {
   "cell_type": "code",
   "execution_count": 55,
   "id": "9a543b09",
   "metadata": {},
   "outputs": [],
   "source": [
    "# lambda or annonimous function. Use the lambda keyword in the begining.\n",
    "# can be used in time of simple logic functions.\n",
    "\n",
    "n = lambda a,b:a+b\n",
    "\n",
    "# n variable can be ued to call lambda here."
   ]
  },
  {
   "cell_type": "code",
   "execution_count": 56,
   "id": "035279d4",
   "metadata": {},
   "outputs": [
    {
     "data": {
      "text/plain": [
       "9"
      ]
     },
     "execution_count": 56,
     "metadata": {},
     "output_type": "execute_result"
    }
   ],
   "source": [
    "n(4,5)"
   ]
  },
  {
   "cell_type": "code",
   "execution_count": 57,
   "id": "369edf42",
   "metadata": {},
   "outputs": [],
   "source": [
    "def test12(a,b):\n",
    "    return a+b"
   ]
  },
  {
   "cell_type": "code",
   "execution_count": 58,
   "id": "7adb1f91",
   "metadata": {},
   "outputs": [
    {
     "data": {
      "text/plain": [
       "12"
      ]
     },
     "execution_count": 58,
     "metadata": {},
     "output_type": "execute_result"
    }
   ],
   "source": [
    "test12(5,7)"
   ]
  },
  {
   "cell_type": "code",
   "execution_count": 59,
   "id": "a83e774f",
   "metadata": {},
   "outputs": [],
   "source": [
    "b = lambda *m : m"
   ]
  },
  {
   "cell_type": "code",
   "execution_count": 60,
   "id": "3606a666",
   "metadata": {},
   "outputs": [
    {
     "data": {
      "text/plain": [
       "(45, 5, 4, 4, 4, 4, 67)"
      ]
     },
     "execution_count": 60,
     "metadata": {},
     "output_type": "execute_result"
    }
   ],
   "source": [
    "b(45,5,4,4,4,4,67)"
   ]
  },
  {
   "cell_type": "code",
   "execution_count": 61,
   "id": "3bc60d36",
   "metadata": {},
   "outputs": [],
   "source": [
    "#comprehension operation\n",
    "\n",
    "t = (3,4,4,5,5,6,67,7,7)\n",
    "\n",
    "l = []\n",
    "for i in t:\n",
    "    l.append(i)"
   ]
  },
  {
   "cell_type": "code",
   "execution_count": 62,
   "id": "17364d15",
   "metadata": {},
   "outputs": [
    {
     "data": {
      "text/plain": [
       "[3, 4, 4, 5, 5, 6, 67, 7, 7]"
      ]
     },
     "execution_count": 62,
     "metadata": {},
     "output_type": "execute_result"
    }
   ],
   "source": [
    "l"
   ]
  },
  {
   "cell_type": "code",
   "execution_count": 65,
   "id": "2aa7d5d8",
   "metadata": {},
   "outputs": [
    {
     "data": {
      "text/plain": [
       "[3, 4, 4, 5, 5, 6, 67, 7, 7]"
      ]
     },
     "execution_count": 65,
     "metadata": {},
     "output_type": "execute_result"
    }
   ],
   "source": [
    "[i for i in t]\n",
    "\n",
    "# list comprehension operation"
   ]
  },
  {
   "cell_type": "code",
   "execution_count": 66,
   "id": "cd13fbf2",
   "metadata": {},
   "outputs": [
    {
     "data": {
      "text/plain": [
       "{3, 4, 5, 6, 7, 67}"
      ]
     },
     "execution_count": 66,
     "metadata": {},
     "output_type": "execute_result"
    }
   ],
   "source": [
    "{i for i in t}"
   ]
  },
  {
   "cell_type": "code",
   "execution_count": 67,
   "id": "883ad9ae",
   "metadata": {},
   "outputs": [],
   "source": [
    "s = \"subh\""
   ]
  },
  {
   "cell_type": "code",
   "execution_count": 69,
   "id": "4873470a",
   "metadata": {},
   "outputs": [
    {
     "data": {
      "text/plain": [
       "['s', 'u', 'b', 'h']"
      ]
     },
     "execution_count": 69,
     "metadata": {},
     "output_type": "execute_result"
    }
   ],
   "source": [
    "[i for i in s]\n",
    "\n",
    "# [i(meaning return i) for i in s]"
   ]
  },
  {
   "cell_type": "code",
   "execution_count": 70,
   "id": "b9b3fbb8",
   "metadata": {},
   "outputs": [
    {
     "data": {
      "text/plain": [
       "[0, 1, 4, 9, 16, 25, 36, 49, 64, 81]"
      ]
     },
     "execution_count": 70,
     "metadata": {},
     "output_type": "execute_result"
    }
   ],
   "source": [
    "[i*i for i in range(10)]"
   ]
  },
  {
   "cell_type": "code",
   "execution_count": 71,
   "id": "e3f48c2b",
   "metadata": {},
   "outputs": [],
   "source": [
    "l = []\n",
    "for i in range(10):\n",
    "    l.append(i*i)"
   ]
  },
  {
   "cell_type": "code",
   "execution_count": 72,
   "id": "77b1f533",
   "metadata": {},
   "outputs": [
    {
     "data": {
      "text/plain": [
       "[0, 1, 4, 9, 16, 25, 36, 49, 64, 81]"
      ]
     },
     "execution_count": 72,
     "metadata": {},
     "output_type": "execute_result"
    }
   ],
   "source": [
    "l"
   ]
  },
  {
   "cell_type": "code",
   "execution_count": 73,
   "id": "ff9c4663",
   "metadata": {},
   "outputs": [],
   "source": [
    "l = lambda *c :[i for i in c]"
   ]
  },
  {
   "cell_type": "code",
   "execution_count": 75,
   "id": "b6b77300",
   "metadata": {},
   "outputs": [
    {
     "data": {
      "text/plain": [
       "[4, 5, 67, 78, 89, 0]"
      ]
     },
     "execution_count": 75,
     "metadata": {},
     "output_type": "execute_result"
    }
   ],
   "source": [
    "l(4,5,67,78,89,0)"
   ]
  },
  {
   "cell_type": "code",
   "execution_count": 76,
   "id": "6594a1fc",
   "metadata": {},
   "outputs": [],
   "source": [
    "p = lambda *c :[i**2 for i in c]"
   ]
  },
  {
   "cell_type": "code",
   "execution_count": 77,
   "id": "12aadb4f",
   "metadata": {},
   "outputs": [
    {
     "data": {
      "text/plain": [
       "[16, 25, 4489, 6084, 7921, 0]"
      ]
     },
     "execution_count": 77,
     "metadata": {},
     "output_type": "execute_result"
    }
   ],
   "source": [
    "p(4,5,67,78,89,0)"
   ]
  },
  {
   "cell_type": "code",
   "execution_count": 92,
   "id": "8c6a376f",
   "metadata": {},
   "outputs": [
    {
     "data": {
      "text/plain": [
       "['sudh', 'sudh', 'sudh']"
      ]
     },
     "execution_count": 92,
     "metadata": {},
     "output_type": "execute_result"
    }
   ],
   "source": [
    "test14(a=7, b='sudh', c=345, d='sudh', l=[2,3,4,45,'sudh'])"
   ]
  },
  {
   "cell_type": "code",
   "execution_count": 91,
   "id": "e800d9ce",
   "metadata": {},
   "outputs": [],
   "source": [
    "def test14(**kwargs):\n",
    "    l = []\n",
    "    for v in kwargs.values():\n",
    "        if type(v) == str:\n",
    "            l.append(v)\n",
    "        if type(v) == list:\n",
    "            for j in v:\n",
    "                if type(j) == str:\n",
    "                    l.append(j)\n",
    "    return l"
   ]
  },
  {
   "cell_type": "code",
   "execution_count": 93,
   "id": "a30bd5db",
   "metadata": {},
   "outputs": [],
   "source": [
    "def test15(**kwargs):\n",
    "    count =0\n",
    "    print(kwargs)\n",
    "    print(kwargs.values())\n",
    "    for v in kwargs.values():\n",
    "        if type(v) == str or type(v) == list:\n",
    "            count += 1\n",
    "    return count"
   ]
  },
  {
   "cell_type": "code",
   "execution_count": 94,
   "id": "9ad69732",
   "metadata": {},
   "outputs": [
    {
     "name": "stdout",
     "output_type": "stream",
     "text": [
      "{'a': 7, 'b': 'sudh', 'c': 345, 'd': 'sudh', 'l': [2, 3, 4, 45, 'sudh']}\n",
      "dict_values([7, 'sudh', 345, 'sudh', [2, 3, 4, 45, 'sudh']])\n"
     ]
    },
    {
     "data": {
      "text/plain": [
       "3"
      ]
     },
     "execution_count": 94,
     "metadata": {},
     "output_type": "execute_result"
    }
   ],
   "source": [
    "test15(a=7, b='sudh', c=345, d='sudh', l=[2,3,4,45,'sudh'])"
   ]
  },
  {
   "cell_type": "code",
   "execution_count": 95,
   "id": "510fd53b",
   "metadata": {},
   "outputs": [],
   "source": [
    "def test15(**k):\n",
    "    return list(k.values())"
   ]
  },
  {
   "cell_type": "code",
   "execution_count": 96,
   "id": "05a76164",
   "metadata": {},
   "outputs": [
    {
     "data": {
      "text/plain": [
       "[7, 'sudh', 345, 'sudh', [2, 3, 4, 45, 'sudh']]"
      ]
     },
     "execution_count": 96,
     "metadata": {},
     "output_type": "execute_result"
    }
   ],
   "source": [
    "test15(a=7, b='sudh', c=345, d='sudh', l=[2,3,4,45,'sudh'])"
   ]
  },
  {
   "cell_type": "code",
   "execution_count": null,
   "id": "9b94806f",
   "metadata": {},
   "outputs": [],
   "source": []
  }
 ],
 "metadata": {
  "kernelspec": {
   "display_name": "Python 3 (ipykernel)",
   "language": "python",
   "name": "python3"
  },
  "language_info": {
   "codemirror_mode": {
    "name": "ipython",
    "version": 3
   },
   "file_extension": ".py",
   "mimetype": "text/x-python",
   "name": "python",
   "nbconvert_exporter": "python",
   "pygments_lexer": "ipython3",
   "version": "3.9.7"
  }
 },
 "nbformat": 4,
 "nbformat_minor": 5
}
