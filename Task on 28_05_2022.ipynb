{
 "cells": [
  {
   "cell_type": "code",
   "execution_count": 1,
   "id": "d08fb00c",
   "metadata": {},
   "outputs": [
    {
     "name": "stdout",
     "output_type": "stream",
     "text": [
      "ineuron \n",
      "\n",
      "ineuron ineuron \n",
      "\n",
      "ineuron ineuron ineuron \n",
      "\n",
      "ineuron ineuron ineuron ineuron \n",
      "\n"
     ]
    }
   ],
   "source": [
    "# q1: \n",
    "# ineuron\n",
    "# ineuron ineuron\n",
    "# ineuron ineuron ineuron\n",
    "# ineuron ineuron ineuron ineuron\n",
    "\n",
    "n= 4\n",
    "for i in range(n):\n",
    "    for j in range(i+1):\n",
    "        print(\"ineuron \", end=\"\")\n",
    "    print(\"\\n\")"
   ]
  },
  {
   "cell_type": "code",
   "execution_count": 2,
   "id": "b82a047f",
   "metadata": {},
   "outputs": [
    {
     "name": "stdout",
     "output_type": "stream",
     "text": [
      "        ineuron \n",
      "    ineuron ineuron \n",
      "ineuron ineuron ineuron \n",
      "    ineuron ineuron \n",
      "        ineuron \n"
     ]
    }
   ],
   "source": [
    "# q2: \n",
    "#           ineuron\n",
    "#     ineuron     ineuron\n",
    "# ineuron   ineuron   ineuron\n",
    "#     ineuron     ineuron\n",
    "#           ineuron\n",
    "\n",
    "n = 3\n",
    "for i in range(n):\n",
    "    for j in range(n - i - 1):\n",
    "        print('    ', end='')\n",
    "    for j in range(i + 1):\n",
    "        print('ineuron ', end='')\n",
    "    print()\n",
    "for i in range(n - 1):\n",
    "    for j in range(i + 1):\n",
    "        print('    ', end='')\n",
    "    for j in range((n - i) - 1):\n",
    "        print('ineuron ', end='')\n",
    "    print()"
   ]
  },
  {
   "cell_type": "code",
   "execution_count": 3,
   "id": "4d25bc11",
   "metadata": {},
   "outputs": [],
   "source": [
    "l = [[1,2,3,4], (2,3,4,5,6),(3,4,5,6,7), set([23,4,5,45,4,4,5,45,45,4,5]), {\"k1\":\"sudh\", \"k2\":\"ineuron\", \"k3\":\"kumar\", 3:6,7:8}, [\"ineuron\", \"data science\"]]\n"
   ]
  },
  {
   "cell_type": "code",
   "execution_count": 4,
   "id": "52ef0016",
   "metadata": {},
   "outputs": [
    {
     "name": "stdout",
     "output_type": "stream",
     "text": [
      "[1, 2, 3, 4]\n",
      "['ineuron', 'data science']\n"
     ]
    }
   ],
   "source": [
    "#q3:\n",
    "#Try to extract all the list entity.\n",
    "\n",
    "for i in l:\n",
    "    if type(i) == list:\n",
    "        print(i)"
   ]
  },
  {
   "cell_type": "code",
   "execution_count": 5,
   "id": "73567c04",
   "metadata": {},
   "outputs": [
    {
     "name": "stdout",
     "output_type": "stream",
     "text": [
      "{'k1': 'sudh', 'k2': 'ineuron', 'k3': 'kumar', 3: 6, 7: 8}\n"
     ]
    }
   ],
   "source": [
    "#q4:\n",
    "#Try to extract all the dict entity.\n",
    "\n",
    "for i in l:\n",
    "    if type(i) == dict:\n",
    "        print(i)"
   ]
  },
  {
   "cell_type": "code",
   "execution_count": 6,
   "id": "2e7c019f",
   "metadata": {},
   "outputs": [
    {
     "name": "stdout",
     "output_type": "stream",
     "text": [
      "(2, 3, 4, 5, 6)\n",
      "(3, 4, 5, 6, 7)\n"
     ]
    }
   ],
   "source": [
    "#q5:\n",
    "#Try to extract all the tuples entities\n",
    "\n",
    "for i in l:\n",
    "    if type(i) == tuple:\n",
    "        print(i)"
   ]
  },
  {
   "cell_type": "code",
   "execution_count": 7,
   "id": "36be8eba",
   "metadata": {},
   "outputs": [
    {
     "name": "stdout",
     "output_type": "stream",
     "text": [
      "1\n",
      "2\n",
      "3\n",
      "4\n",
      "2\n",
      "3\n",
      "4\n",
      "5\n",
      "6\n",
      "3\n",
      "4\n",
      "5\n",
      "6\n",
      "7\n",
      "45\n",
      "4\n",
      "5\n",
      "23\n",
      "3\n",
      "6\n",
      "7\n",
      "8\n"
     ]
    }
   ],
   "source": [
    "#q6:\n",
    "#Try to extract all the numerical data it can be a part of dict key and values.\n",
    "\n",
    "for i in l:\n",
    "    if type(i) == list or type(i) == tuple or type(i) == set:\n",
    "        for j in i:\n",
    "            if type(j) == int:\n",
    "                print (j)\n",
    "    if type(i) == dict:\n",
    "        for k,v in i.items():\n",
    "            if type(k) == int or type(v) == int:\n",
    "                print(k)\n",
    "                print(v)"
   ]
  },
  {
   "cell_type": "code",
   "execution_count": 8,
   "id": "2f0b3639",
   "metadata": {},
   "outputs": [
    {
     "name": "stdout",
     "output_type": "stream",
     "text": [
      "156\n"
     ]
    }
   ],
   "source": [
    "#q7\n",
    "#Try to give summation of all the numeric data\n",
    "\n",
    "l1=[]\n",
    "l2=[]\n",
    "l3=[]\n",
    "for i in l:\n",
    "    if type(i) == list or type(i) == tuple or type(i) == set:\n",
    "        for j in i:\n",
    "            if type(j) == int:\n",
    "                l1.append(j)\n",
    "    if type(i) == dict:\n",
    "        for k,v in i.items():\n",
    "            if type(k) == int or type(v) == int:\n",
    "                l2.append(k)\n",
    "                l3.append(v)\n",
    "s1 = sum(l1)\n",
    "s2 = sum(l2)\n",
    "s3 = sum(l3)\n",
    "s = s1+s2+s3\n",
    "print(s)"
   ]
  },
  {
   "cell_type": "code",
   "execution_count": 9,
   "id": "24eaea8b",
   "metadata": {},
   "outputs": [
    {
     "name": "stdout",
     "output_type": "stream",
     "text": [
      "[2, 4]\n"
     ]
    }
   ],
   "source": [
    "#q8\n",
    "#Try to filter out all the odd values out all numeric data which is a part of a list\n",
    "\n",
    "l4 = []\n",
    "for i in l:\n",
    "    if type(i) == list:\n",
    "        for j in i:\n",
    "            if type(j) == int:\n",
    "                if j%2 == 0:\n",
    "                    l4.append(j)\n",
    "print (l4)"
   ]
  },
  {
   "cell_type": "code",
   "execution_count": 10,
   "id": "07df9022",
   "metadata": {},
   "outputs": [
    {
     "name": "stdout",
     "output_type": "stream",
     "text": [
      "ineuron\n",
      "ineuron\n"
     ]
    }
   ],
   "source": [
    "#q9\n",
    "#Try to extract \"ineruon\" out of this data.\n",
    "\n",
    "for i in l:\n",
    "    if type(i) == list:\n",
    "        for j in i:\n",
    "            if str(j) == \"ineuron\":\n",
    "                print (j)\n",
    "    if type(i) == dict:\n",
    "        for k,v in i.items():\n",
    "            if str(k) == \"ineuron\":\n",
    "                print(k)\n",
    "            elif str(v) == \"ineuron\":\n",
    "                print(v)"
   ]
  },
  {
   "cell_type": "code",
   "execution_count": 11,
   "id": "ed2bd716",
   "metadata": {},
   "outputs": [
    {
     "name": "stdout",
     "output_type": "stream",
     "text": [
      "1 : 1\n",
      "2 : 2\n",
      "3 : 4\n",
      "4 : 4\n",
      "5 : 3\n",
      "6 : 3\n",
      "7 : 2\n",
      "k3 : 1\n",
      "8 : 1\n",
      "kumar : 1\n",
      "45 : 1\n",
      "data science : 1\n",
      "k1 : 1\n",
      "sudh : 1\n",
      "23 : 1\n",
      "k2 : 1\n",
      "ineuron : 2\n"
     ]
    }
   ],
   "source": [
    "#q10\n",
    "#Try to find out a number of occurances of all the data.\n",
    "\n",
    "l1=[]\n",
    "l2=[]\n",
    "l3=[]\n",
    "for i in l:\n",
    "    if type(i) == list or type(i) == tuple or type(i) == set:\n",
    "        for j in i:\n",
    "            l1.append(j)\n",
    "    if type(i) == dict:\n",
    "        for k,v in i.items():\n",
    "            l2.append(k)\n",
    "            l3.append(v)\n",
    "l4=l1+l2+l3\n",
    "for n in set(l4):\n",
    "    print (n, \":\", l4.count(n))"
   ]
  },
  {
   "cell_type": "code",
   "execution_count": 12,
   "id": "c381ec0c",
   "metadata": {},
   "outputs": [
    {
     "name": "stdout",
     "output_type": "stream",
     "text": [
      "5\n"
     ]
    }
   ],
   "source": [
    "#q11\n",
    "#Try to find out number of keys in dict element.\n",
    "\n",
    "l1=[]\n",
    "for i in l:\n",
    "    if type(i) == dict:\n",
    "        for k,v in i.items():\n",
    "            l1.append(k)\n",
    "print(len(l1))"
   ]
  },
  {
   "cell_type": "code",
   "execution_count": 13,
   "id": "6bdf96c3",
   "metadata": {},
   "outputs": [
    {
     "name": "stdout",
     "output_type": "stream",
     "text": [
      "k1\n",
      "sudh\n",
      "k2\n",
      "ineuron\n",
      "k3\n",
      "kumar\n",
      "ineuron\n",
      "data science\n"
     ]
    }
   ],
   "source": [
    "#q12\n",
    "#Try to filter out all the string data.\n",
    "\n",
    "for i in l:\n",
    "    if type(i) == list or type(i) == tuple or type(i) == set:\n",
    "        for j in i:\n",
    "            if type(j) == str:\n",
    "                print (j)\n",
    "    if type(i) == dict:\n",
    "        for k,v in i.items():\n",
    "            if type(k) == str or type(v) == str:\n",
    "                print(k)\n",
    "                print(v)"
   ]
  },
  {
   "cell_type": "code",
   "execution_count": 14,
   "id": "48ef2669",
   "metadata": {},
   "outputs": [
    {
     "name": "stdout",
     "output_type": "stream",
     "text": [
      "k1 : True\n",
      "sudh : True\n",
      "k2 : True\n",
      "ineuron : True\n",
      "k3 : True\n",
      "kumar : True\n",
      "ineuron : True\n",
      "data science : False\n"
     ]
    }
   ],
   "source": [
    "#q13\n",
    "#Try to Find out alphanum in data.\n",
    "\n",
    "for i in l:\n",
    "    if type(i) == list or type(i) == tuple or type(i) == set:\n",
    "        for j in i:\n",
    "            if type(j) == str:\n",
    "                print (j, ':', j.isalnum())\n",
    "    if type(i) == dict:\n",
    "        for k,v in i.items():\n",
    "            if type(k) == str or type(v) == str:\n",
    "                print(k, ':', k.isalnum())\n",
    "                print(v, ':', v.isalnum())\n",
    "\n"
   ]
  },
  {
   "cell_type": "code",
   "execution_count": 15,
   "id": "f22dcdf9",
   "metadata": {},
   "outputs": [
    {
     "name": "stdout",
     "output_type": "stream",
     "text": [
      "[1, 2, 3, 4, 2, 3, 4, 5, 6, 3, 4, 5, 6, 7, 45, 4, 5, 23, 3, 7, 6, 8]\n",
      "908605071360000\n"
     ]
    }
   ],
   "source": [
    "#q14\n",
    "#Try to find out multiplication of all numeric value in the individual collection inside dataset.\n",
    "\n",
    "l1=[]\n",
    "l2=[]\n",
    "l3=[]\n",
    "s1 = 1\n",
    "for i in l:\n",
    "    if type(i) == list or type(i) == tuple or type(i) == set:\n",
    "        for j in i:\n",
    "            if type(j) == int:\n",
    "                l1.append(j)\n",
    "    if type(i) == dict:\n",
    "        for k,v in i.items():\n",
    "            if type(k) == int or type(v) == int:\n",
    "                l2.append(k)\n",
    "                l3.append(v)\n",
    "l4 = l1+l2+l3\n",
    "print(l4)\n",
    "for n in l4:\n",
    "    s1 = s1 * n\n",
    "print(s1)"
   ]
  },
  {
   "cell_type": "code",
   "execution_count": 16,
   "id": "794074eb",
   "metadata": {},
   "outputs": [
    {
     "name": "stdout",
     "output_type": "stream",
     "text": [
      "[1, 2, 3, 4, 2, 3, 4, 5, 6, 3, 4, 5, 6, 7, 45, 4, 5, 23, 'ineuron', 'data science', 'k1', 'k2', 'k3', 3, 7, 'sudh', 'ineuron', 'kumar', 6, 8]\n"
     ]
    }
   ],
   "source": [
    "#q15\n",
    "#Try to unwrape all the values inside collection and create a flat List.\n",
    "\n",
    "l1=[]\n",
    "l2=[]\n",
    "l3=[]\n",
    "for i in l:\n",
    "    if type(i) == list or type(i) == tuple or type(i) == set:\n",
    "        for j in i:\n",
    "            l1.append(j)\n",
    "    if type(i) == dict:\n",
    "        for k,v in i.items():\n",
    "            l2.append(k)\n",
    "            l3.append(v)\n",
    "l4=l1+l2+l3\n",
    "print(l4)"
   ]
  }
 ],
 "metadata": {
  "kernelspec": {
   "display_name": "Python 3 (ipykernel)",
   "language": "python",
   "name": "python3"
  },
  "language_info": {
   "codemirror_mode": {
    "name": "ipython",
    "version": 3
   },
   "file_extension": ".py",
   "mimetype": "text/x-python",
   "name": "python",
   "nbconvert_exporter": "python",
   "pygments_lexer": "ipython3",
   "version": "3.9.7"
  }
 },
 "nbformat": 4,
 "nbformat_minor": 5
}
