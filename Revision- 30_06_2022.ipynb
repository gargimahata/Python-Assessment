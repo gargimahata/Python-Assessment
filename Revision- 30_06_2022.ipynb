{
 "cells": [
  {
   "cell_type": "code",
   "execution_count": 7,
   "id": "219ca210",
   "metadata": {},
   "outputs": [
    {
     "name": "stdout",
     "output_type": "stream",
     "text": [
      "[Errno 2] No such file or directory: 'gargi.txt'\n"
     ]
    }
   ],
   "source": [
    "try:\n",
    "    f = open(\"gargi.txt\",\"r\")\n",
    "except Exception as e:\n",
    "    print(e)"
   ]
  },
  {
   "cell_type": "code",
   "execution_count": 8,
   "id": "558fe6f3",
   "metadata": {},
   "outputs": [
    {
     "ename": "FileNotFoundError",
     "evalue": "[Errno 2] No such file or directory: 'gargi.txt'",
     "output_type": "error",
     "traceback": [
      "\u001b[0;31m---------------------------------------------------------------------------\u001b[0m",
      "\u001b[0;31mFileNotFoundError\u001b[0m                         Traceback (most recent call last)",
      "\u001b[0;32m/var/folders/gy/zdp2mszs7f10ps3hr6svw1k40000gn/T/ipykernel_2660/1001040779.py\u001b[0m in \u001b[0;36m<module>\u001b[0;34m\u001b[0m\n\u001b[0;32m----> 1\u001b[0;31m \u001b[0mf1\u001b[0m \u001b[0;34m=\u001b[0m \u001b[0mopen\u001b[0m\u001b[0;34m(\u001b[0m\u001b[0;34m\"gargi.txt\"\u001b[0m\u001b[0;34m,\u001b[0m\u001b[0;34m\"r\"\u001b[0m\u001b[0;34m)\u001b[0m\u001b[0;34m\u001b[0m\u001b[0;34m\u001b[0m\u001b[0m\n\u001b[0m\u001b[1;32m      2\u001b[0m \u001b[0mf1\u001b[0m\u001b[0;34m.\u001b[0m\u001b[0mwrite\u001b[0m\u001b[0;34m(\u001b[0m\u001b[0;34m\"this is the suspicious code\"\u001b[0m\u001b[0;34m)\u001b[0m\u001b[0;34m\u001b[0m\u001b[0;34m\u001b[0m\u001b[0m\n",
      "\u001b[0;31mFileNotFoundError\u001b[0m: [Errno 2] No such file or directory: 'gargi.txt'"
     ]
    }
   ],
   "source": [
    "f1 = open(\"gargi.txt\",\"r\")\n",
    "f1.write(\"this is the suspicious code\")"
   ]
  },
  {
   "cell_type": "code",
   "execution_count": 9,
   "id": "584daaeb",
   "metadata": {},
   "outputs": [
    {
     "name": "stdout",
     "output_type": "stream",
     "text": [
      "[Errno 2] No such file or directory: 'misti.txtr'\n",
      "this is not my suspicious set of code.\n"
     ]
    }
   ],
   "source": [
    "try:\n",
    "    f2 = open(\"misti.txt\" \"r\")\n",
    "    f2.write(\"this is the suspicious code\")\n",
    "except Exception as e:\n",
    "    print(e)\n",
    "    print(\"this is not my suspicious set of code.\")"
   ]
  },
  {
   "cell_type": "code",
   "execution_count": 10,
   "id": "d383d4e9",
   "metadata": {},
   "outputs": [
    {
     "name": "stdout",
     "output_type": "stream",
     "text": [
      "[Errno 2] No such file or directory: 'misti.txtr'\n",
      "this is not my suspicious set of code.\n",
      "this block will be executed anytime.\n"
     ]
    }
   ],
   "source": [
    "try:\n",
    "    f2 = open(\"misti.txt\" \"r\")\n",
    "    f2.write(\"this is the suspicious code\")\n",
    "except Exception as e:\n",
    "    print(e)\n",
    "    print(\"this is not my suspicious set of code.\")\n",
    "finally:\n",
    "    print(\"this block will be executed anytime.\")"
   ]
  },
  {
   "cell_type": "code",
   "execution_count": 11,
   "id": "8c3a35ea",
   "metadata": {},
   "outputs": [],
   "source": [
    "def askint():\n",
    "    try:\n",
    "        val = int(input(\"please enter an integer\"))\n",
    "    except:\n",
    "        print(\"no you have not entered an int\")\n",
    "        try:\n",
    "            val = int(input(\"please enter an integer\"))\n",
    "        except:\n",
    "            print(\"we have handled your mistake second time.\")\n",
    "    finally:\n",
    "        print(\"finally will be executed anyhow.\")"
   ]
  },
  {
   "cell_type": "code",
   "execution_count": 12,
   "id": "04eba398",
   "metadata": {},
   "outputs": [
    {
     "name": "stdout",
     "output_type": "stream",
     "text": [
      "please enter an integererrww\n"
     ]
    },
    {
     "ename": "ValueError",
     "evalue": "invalid literal for int() with base 10: 'errww'",
     "output_type": "error",
     "traceback": [
      "\u001b[0;31m---------------------------------------------------------------------------\u001b[0m",
      "\u001b[0;31mValueError\u001b[0m                                Traceback (most recent call last)",
      "\u001b[0;32m/var/folders/gy/zdp2mszs7f10ps3hr6svw1k40000gn/T/ipykernel_2660/2990989433.py\u001b[0m in \u001b[0;36m<module>\u001b[0;34m\u001b[0m\n\u001b[0;32m----> 1\u001b[0;31m \u001b[0mval\u001b[0m \u001b[0;34m=\u001b[0m \u001b[0mint\u001b[0m\u001b[0;34m(\u001b[0m\u001b[0minput\u001b[0m\u001b[0;34m(\u001b[0m\u001b[0;34m\"please enter an integer\"\u001b[0m\u001b[0;34m)\u001b[0m\u001b[0;34m)\u001b[0m\u001b[0;34m\u001b[0m\u001b[0;34m\u001b[0m\u001b[0m\n\u001b[0m",
      "\u001b[0;31mValueError\u001b[0m: invalid literal for int() with base 10: 'errww'"
     ]
    }
   ],
   "source": [
    "val = int(input(\"please enter an integer\"))"
   ]
  },
  {
   "cell_type": "code",
   "execution_count": 13,
   "id": "107b3d60",
   "metadata": {},
   "outputs": [
    {
     "name": "stdout",
     "output_type": "stream",
     "text": [
      "please enter an integersfsfs\n",
      "no you have not entered an int\n",
      "please enter an integerddf\n",
      "we have handled your mistake second time.\n",
      "finally will be executed anyhow.\n"
     ]
    }
   ],
   "source": [
    "askint()"
   ]
  },
  {
   "cell_type": "code",
   "execution_count": 14,
   "id": "8955b7bf",
   "metadata": {},
   "outputs": [],
   "source": [
    "def askint1():\n",
    "    while True:\n",
    "        try:\n",
    "            val =int(input(\"please try to input an integer: \"))\n",
    "            break\n",
    "        except:\n",
    "            print(\"looks like you have not entered an integer\")\n",
    "            continue"
   ]
  },
  {
   "cell_type": "code",
   "execution_count": 15,
   "id": "6495c0e6",
   "metadata": {},
   "outputs": [
    {
     "name": "stdout",
     "output_type": "stream",
     "text": [
      "please try to input an integer: dgdg\n",
      "looks like you have not entered an integer\n",
      "please try to input an integer: xgfdd\n",
      "looks like you have not entered an integer\n",
      "please try to input an integer: 21234\n"
     ]
    }
   ],
   "source": [
    "askint1()\n"
   ]
  },
  {
   "cell_type": "code",
   "execution_count": 16,
   "id": "2d3b70c6",
   "metadata": {},
   "outputs": [],
   "source": [
    "def askint2():\n",
    "    while True:\n",
    "        try:\n",
    "            val =int(input(\"please try to input an integer: \"))\n",
    "            break\n",
    "        except:\n",
    "            print(\"looks like you have not entered an integer\")"
   ]
  },
  {
   "cell_type": "code",
   "execution_count": 17,
   "id": "53e6678c",
   "metadata": {},
   "outputs": [
    {
     "name": "stdout",
     "output_type": "stream",
     "text": [
      "please try to input an integer: tydfytdtuk\n",
      "looks like you have not entered an integer\n",
      "please try to input an integer: dyjdyc\n",
      "looks like you have not entered an integer\n",
      "please try to input an integer: djydyjdtu\n",
      "looks like you have not entered an integer\n",
      "please try to input an integer: 23445\n"
     ]
    }
   ],
   "source": [
    "askint2()"
   ]
  }
 ],
 "metadata": {
  "kernelspec": {
   "display_name": "Python 3 (ipykernel)",
   "language": "python",
   "name": "python3"
  },
  "language_info": {
   "codemirror_mode": {
    "name": "ipython",
    "version": 3
   },
   "file_extension": ".py",
   "mimetype": "text/x-python",
   "name": "python",
   "nbconvert_exporter": "python",
   "pygments_lexer": "ipython3",
   "version": "3.9.7"
  }
 },
 "nbformat": 4,
 "nbformat_minor": 5
}
