{
 "cells": [
  {
   "cell_type": "code",
   "execution_count": 1,
   "id": "702623cd",
   "metadata": {},
   "outputs": [
    {
     "name": "stdout",
     "output_type": "stream",
     "text": [
      "Welcome\n"
     ]
    }
   ],
   "source": [
    "# Output using print() function\n",
    "\n",
    "print(\"Welcome\")"
   ]
  },
  {
   "cell_type": "code",
   "execution_count": 2,
   "id": "9f3a40c9",
   "metadata": {},
   "outputs": [
    {
     "name": "stdout",
     "output_type": "stream",
     "text": [
      "Welcome here\n"
     ]
    }
   ],
   "source": [
    "#Python end parameter in print()\n",
    "\n",
    "print(\"Welcome\", end=\" \") \n",
    "print(\"here\")"
   ]
  },
  {
   "cell_type": "code",
   "execution_count": 3,
   "id": "ebaa0647",
   "metadata": {},
   "outputs": [
    {
     "name": "stdout",
     "output_type": "stream",
     "text": [
      "1 2 3 4 5 6\n"
     ]
    }
   ],
   "source": [
    "l=[1,2,3,4,5,6]\n",
    "print(*l)"
   ]
  },
  {
   "cell_type": "code",
   "execution_count": 4,
   "id": "bf470c44",
   "metadata": {},
   "outputs": [
    {
     "name": "stdout",
     "output_type": "stream",
     "text": [
      "[1, 2, 3, 4, 5, 6]\n"
     ]
    }
   ],
   "source": [
    "l=[1,2,3,4,5,6]\n",
    "print(l)"
   ]
  },
  {
   "cell_type": "code",
   "execution_count": 5,
   "id": "daab9cea",
   "metadata": {},
   "outputs": [
    {
     "name": "stdout",
     "output_type": "stream",
     "text": [
      "gargimahata25\n"
     ]
    }
   ],
   "source": [
    "#sep parameter in print()\n",
    "print('gargi','mahata','25', sep='')"
   ]
  },
  {
   "cell_type": "code",
   "execution_count": 6,
   "id": "eab58244",
   "metadata": {},
   "outputs": [
    {
     "name": "stdout",
     "output_type": "stream",
     "text": [
      "gargimahata25@gmail.com\n"
     ]
    }
   ],
   "source": [
    "#sep & end parameter in print()\n",
    "\n",
    "print('gargi','mahata','25', sep='',end=\"@\")\n",
    "print('gmail.com')"
   ]
  },
  {
   "cell_type": "markdown",
   "id": "c777f327",
   "metadata": {},
   "source": [
    "# File Handling"
   ]
  },
  {
   "cell_type": "markdown",
   "id": "74723ce2",
   "metadata": {},
   "source": [
    "Python has several functions for creating, reading, updating, and deleting files.\n",
    "\n",
    "The key function for working with files in Python is the open() function.\n",
    "\n",
    "The open() function takes two parameters; filename, and mode.\n",
    "\n",
    "There are four different methods (modes) for opening a file:\n",
    "\n",
    "    \"r\" - Read - Default value. Opens a file for reading, error if the file does not exist\n",
    "\n",
    "\n",
    "    \"a\" - Append - Opens a file for appending, creates the file if it does not exist\n",
    "\n",
    "\n",
    "    \"w\" - Write - Opens a file for writing, creates the file if it does not exist\n",
    "\n",
    "\n",
    "    \"x\" - Create - Creates the specified file, returns an error if the file exists\n",
    "\n",
    "if the file should be handled as binary or text mode can be specified with:\n",
    "    \n",
    "    \"t\" - Text - Default value. Text mode\n",
    "    \n",
    "    \"b\" - Binary - Binary mode (e.g. images)\n"
   ]
  },
  {
   "cell_type": "code",
   "execution_count": 7,
   "id": "35995178",
   "metadata": {},
   "outputs": [
    {
     "name": "stdout",
     "output_type": "stream",
     "text": [
      "There once was a ship that put to sea\n",
      "The name of the ship was the Billy of Tea\n",
      "The winds blew up, her bow dipped down\n",
      "Oh blow, my bully boys, blow (huh)\n",
      "More content!\n",
      "More content!\n"
     ]
    }
   ],
   "source": [
    "f = open(\"demo1.txt\")\n",
    "print(f.read())\n",
    "#or f = open(\"demofile.txt\",\"rt\"), this is not working."
   ]
  },
  {
   "cell_type": "code",
   "execution_count": 8,
   "id": "873e0620",
   "metadata": {},
   "outputs": [
    {
     "name": "stdout",
     "output_type": "stream",
     "text": [
      "Woops! I have deleted the content!\n"
     ]
    }
   ],
   "source": [
    "g = open(\"/Users/fugu/Desktop/demo.txt\",'r')\n",
    "print(g.read())"
   ]
  },
  {
   "cell_type": "code",
   "execution_count": 9,
   "id": "475280bf",
   "metadata": {},
   "outputs": [
    {
     "name": "stdout",
     "output_type": "stream",
     "text": [
      "Woops!\n"
     ]
    }
   ],
   "source": [
    "# Read Only Parts of the File\n",
    "g = open(\"/Users/fugu/Desktop/demo.txt\",'r')\n",
    "print(g.read(6))"
   ]
  },
  {
   "cell_type": "code",
   "execution_count": 10,
   "id": "97a4bc52",
   "metadata": {},
   "outputs": [
    {
     "name": "stdout",
     "output_type": "stream",
     "text": [
      "Woops! I have deleted the content!\n",
      "\n"
     ]
    }
   ],
   "source": [
    "# Read lines of the File\n",
    "g = open(\"/Users/fugu/Desktop/demo.txt\",'r')\n",
    "print(g.readline())\n",
    "print(g.readline())"
   ]
  },
  {
   "cell_type": "code",
   "execution_count": 11,
   "id": "da2a4999",
   "metadata": {},
   "outputs": [
    {
     "name": "stdout",
     "output_type": "stream",
     "text": [
      "[]\n"
     ]
    }
   ],
   "source": [
    "print(g.readlines())\n",
    "\n",
    "#need to know reason"
   ]
  },
  {
   "cell_type": "code",
   "execution_count": 12,
   "id": "4b460b64",
   "metadata": {},
   "outputs": [
    {
     "name": "stdout",
     "output_type": "stream",
     "text": [
      "['Woops! I have deleted the content!']\n"
     ]
    }
   ],
   "source": [
    "# Read lines of the File\n",
    "g = open(\"/Users/fugu/Desktop/demo.txt\",'r')\n",
    "print(g.readlines())"
   ]
  },
  {
   "cell_type": "code",
   "execution_count": 13,
   "id": "2731a3a6",
   "metadata": {},
   "outputs": [
    {
     "name": "stdout",
     "output_type": "stream",
     "text": [
      "There once was a ship that put to sea\n",
      "\n",
      "The name of the ship was the Billy of Tea\n",
      "\n",
      "The winds blew up, her bow dipped down\n",
      "\n",
      "Oh blow, my bully boys, blow (huh)\n",
      "\n",
      "More content!\n",
      "\n",
      "More content!\n"
     ]
    }
   ],
   "source": [
    "#By looping through the lines of the file, you can read the whole file, line by line:\n",
    "\n",
    "f = open(\"demo1.txt\", \"r\")\n",
    "for x in f:\n",
    "    print(x)"
   ]
  },
  {
   "cell_type": "code",
   "execution_count": 14,
   "id": "8a734f82",
   "metadata": {},
   "outputs": [
    {
     "name": "stdout",
     "output_type": "stream",
     "text": [
      "['There once was a ship that put to sea\\n', 'The name of the ship was the Billy of Tea\\n', 'The winds blew up, her bow dipped down\\n', 'Oh blow, my bully boys, blow (huh)\\n', 'More content!\\n', 'More content!']\n"
     ]
    }
   ],
   "source": [
    "#Close Files\n",
    "\n",
    "f = open(\"demo1.txt\", \"r\")\n",
    "print(f.readlines())\n",
    "f.close() "
   ]
  },
  {
   "cell_type": "markdown",
   "id": "87fdd600",
   "metadata": {},
   "source": [
    "# Python File Write"
   ]
  },
  {
   "cell_type": "markdown",
   "id": "ed204c2a",
   "metadata": {},
   "source": [
    "To write to an existing file, you must add a parameter to the open() function:\n",
    "\n",
    "\"a\" - Append - will append to the end of the file\n",
    "\n",
    "\"w\" - Write - will overwrite any existing content\n"
   ]
  },
  {
   "cell_type": "code",
   "execution_count": 15,
   "id": "dab467dc",
   "metadata": {},
   "outputs": [
    {
     "name": "stdout",
     "output_type": "stream",
     "text": [
      "There once was a ship that put to sea\n",
      "The name of the ship was the Billy of Tea\n",
      "The winds blew up, her bow dipped down\n",
      "Oh blow, my bully boys, blow (huh)\n",
      "More content!\n",
      "More content!\n",
      "More content!\n"
     ]
    }
   ],
   "source": [
    "#Open the file \"demo1.txt\" and append content to the file:\n",
    "\n",
    "g = open(\"demo1.txt\",\"a\")\n",
    "g.write(\"\\nMore content!\")\n",
    "g.close()\n",
    "g = open(\"demo1.txt\",\"r\")\n",
    "print(g.read())\n",
    "g.close()"
   ]
  },
  {
   "cell_type": "code",
   "execution_count": 16,
   "id": "0e532b96",
   "metadata": {},
   "outputs": [
    {
     "name": "stdout",
     "output_type": "stream",
     "text": [
      "Woops! I have deleted the content!\n"
     ]
    }
   ],
   "source": [
    "#Open the file \"demo.txt\" and overwrite the content:\n",
    "\n",
    "a = open(\"/Users/fugu/Desktop/demo.txt\",\"w\")\n",
    "a.write(\"Woops! I have deleted the content!\")\n",
    "a.close()\n",
    "a = open(\"/Users/fugu/Desktop/demo.txt\")\n",
    "print(a.read())\n",
    "a.close()"
   ]
  },
  {
   "cell_type": "markdown",
   "id": "b52440a6",
   "metadata": {},
   "source": [
    "# Create a New File"
   ]
  },
  {
   "cell_type": "markdown",
   "id": "fdde3304",
   "metadata": {},
   "source": [
    "To create a new file in Python, use the open() method, with one of the following parameters:\n",
    "\n",
    "\"x\" - Create - will create a file, returns an error if the file exist\n",
    "\n",
    "\"a\" - Append - will create a file if the specified file does not exist\n",
    "\n",
    "\"w\" - Write - will create a file if the specified file does not exist"
   ]
  },
  {
   "cell_type": "code",
   "execution_count": 18,
   "id": "9c67e9fe",
   "metadata": {},
   "outputs": [],
   "source": [
    "b = open(\"myfile.txt\", \"x\")"
   ]
  },
  {
   "cell_type": "code",
   "execution_count": 19,
   "id": "591fb47d",
   "metadata": {},
   "outputs": [
    {
     "name": "stdout",
     "output_type": "stream",
     "text": [
      "Out of content. \n",
      "I am sleepy.\n"
     ]
    }
   ],
   "source": [
    "b = open(\"myfile.txt\", \"w\")\n",
    "b.write(\"Out of content. \\nI am sleepy.\")\n",
    "b.close()\n",
    "b = open(\"myfile.txt\", \"r\")\n",
    "print(b.read())\n",
    "b.close()"
   ]
  },
  {
   "cell_type": "markdown",
   "id": "fbf46376",
   "metadata": {},
   "source": [
    "# Delete a File"
   ]
  },
  {
   "cell_type": "code",
   "execution_count": 20,
   "id": "2f71b317",
   "metadata": {},
   "outputs": [],
   "source": [
    "#To delete a file, you must import the OS module, and run its os.remove() function:\n",
    "\n",
    "import os"
   ]
  },
  {
   "cell_type": "code",
   "execution_count": 21,
   "id": "ac4bbc1c",
   "metadata": {},
   "outputs": [],
   "source": [
    "os.remove(\"myfile.txt\")"
   ]
  },
  {
   "cell_type": "code",
   "execution_count": 22,
   "id": "1b02ce88",
   "metadata": {},
   "outputs": [
    {
     "name": "stdout",
     "output_type": "stream",
     "text": [
      "The file does not exist\n"
     ]
    }
   ],
   "source": [
    "#To avoid getting an error, you might want to check if the file exists before you try to delete it:\n",
    "\n",
    "#Check if file exists, then delete it:\n",
    "\n",
    "import os\n",
    "if os.path.exists(\"myfile.txt\"):\n",
    "    os.remove(\"myfile.txt\")\n",
    "else:\n",
    "    print(\"The file does not exist\") "
   ]
  },
  {
   "cell_type": "markdown",
   "id": "0b909d88",
   "metadata": {},
   "source": [
    "# Delete Folder"
   ]
  },
  {
   "cell_type": "code",
   "execution_count": 23,
   "id": "8ff7858c",
   "metadata": {},
   "outputs": [],
   "source": [
    "#To delete an entire folder, use the os.rmdir() method:\n",
    "\n",
    "os.rmdir(\"myfolder\")"
   ]
  },
  {
   "cell_type": "code",
   "execution_count": null,
   "id": "a41c3e6f",
   "metadata": {},
   "outputs": [],
   "source": []
  }
 ],
 "metadata": {
  "kernelspec": {
   "display_name": "Python 3 (ipykernel)",
   "language": "python",
   "name": "python3"
  },
  "language_info": {
   "codemirror_mode": {
    "name": "ipython",
    "version": 3
   },
   "file_extension": ".py",
   "mimetype": "text/x-python",
   "name": "python",
   "nbconvert_exporter": "python",
   "pygments_lexer": "ipython3",
   "version": "3.9.7"
  }
 },
 "nbformat": 4,
 "nbformat_minor": 5
}
